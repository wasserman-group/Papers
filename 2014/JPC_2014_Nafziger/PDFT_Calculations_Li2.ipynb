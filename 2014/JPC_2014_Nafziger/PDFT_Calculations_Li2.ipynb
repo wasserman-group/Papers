{
 "cells": [
  {
   "cell_type": "code",
   "execution_count": 1,
   "metadata": {},
   "outputs": [],
   "source": [
    "import numpy as np\n",
    "import matplotlib.pyplot as plt\n",
    "\n",
    "from CADMium import Kohnsham\n",
    "from CADMium import Pssolver\n",
    "from CADMium import Psgrid\n",
    "from CADMium import Partition\n",
    "from CADMium import Inverter\n",
    "\n",
    "%matplotlib widget"
   ]
  },
  {
   "cell_type": "markdown",
   "metadata": {},
   "source": [
    "---\n",
    "### Perform Isolated Li atom Calculation. \n",
    "Code should run as it is but for idential calculations increase to grid size to: [7,12,12]\n"
   ]
  },
  {
   "cell_type": "code",
   "execution_count": 58,
   "metadata": {},
   "outputs": [
    {
     "data": {
      "text/html": [
       "<pre style=\"white-space:pre;overflow-x:auto;line-height:normal;font-family:Menlo,'DejaVu Sans Mono',consolas,'Courier New',monospace\"> iter    Total Energy     HOMO Eigenvalue         Res       \n",
       "\n",
       "</pre>\n"
      ],
      "text/plain": [
       "<rich.jupyter.JupyterRenderable at 0x7f50abeca850>"
      ]
     },
     "metadata": {},
     "output_type": "display_data"
    },
    {
     "data": {
      "text/html": [
       "<pre style=\"white-space:pre;overflow-x:auto;line-height:normal;font-family:Menlo,'DejaVu Sans Mono',consolas,'Courier New',monospace\">----------------------------------------------------------- \n",
       "\n",
       "</pre>\n"
      ],
      "text/plain": [
       "<rich.jupyter.JupyterRenderable at 0x7f50a9d2ef70>"
      ]
     },
     "metadata": {},
     "output_type": "display_data"
    },
    {
     "data": {
      "text/html": [
       "<pre style=\"white-space:pre;overflow-x:auto;line-height:normal;font-family:Menlo,'DejaVu Sans Mono',consolas,'Courier New',monospace\">    <span style=\"color: #000080; font-weight: bold\">1</span>       <span style=\"color: #000080; font-weight: bold\">-8.94918</span>      <span style=\"color: #000080; font-weight: bold\">-3.73526e-03</span>       +<span style=\"color: #000080; font-weight: bold\">1.00000e+00</span>\n",
       "</pre>\n"
      ],
      "text/plain": [
       "<rich.jupyter.JupyterRenderable at 0x7f50abeca850>"
      ]
     },
     "metadata": {},
     "output_type": "display_data"
    },
    {
     "data": {
      "text/html": [
       "<pre style=\"white-space:pre;overflow-x:auto;line-height:normal;font-family:Menlo,'DejaVu Sans Mono',consolas,'Courier New',monospace\">    <span style=\"color: #000080; font-weight: bold\">2</span>       <span style=\"color: #000080; font-weight: bold\">-7.86658</span>      <span style=\"color: #000080; font-weight: bold\">-8.18372e-02</span>       +<span style=\"color: #000080; font-weight: bold\">1.37621e-01</span>\n",
       "</pre>\n"
      ],
      "text/plain": [
       "<rich.jupyter.JupyterRenderable at 0x7f50a9d2e100>"
      ]
     },
     "metadata": {},
     "output_type": "display_data"
    },
    {
     "data": {
      "text/html": [
       "<pre style=\"white-space:pre;overflow-x:auto;line-height:normal;font-family:Menlo,'DejaVu Sans Mono',consolas,'Courier New',monospace\">    <span style=\"color: #000080; font-weight: bold\">3</span>       <span style=\"color: #000080; font-weight: bold\">-7.50246</span>      <span style=\"color: #000080; font-weight: bold\">-1.00191e-01</span>       +<span style=\"color: #000080; font-weight: bold\">4.85324e-02</span>\n",
       "</pre>\n"
      ],
      "text/plain": [
       "<rich.jupyter.JupyterRenderable at 0x7f50a9d2ef70>"
      ]
     },
     "metadata": {},
     "output_type": "display_data"
    },
    {
     "data": {
      "text/html": [
       "<pre style=\"white-space:pre;overflow-x:auto;line-height:normal;font-family:Menlo,'DejaVu Sans Mono',consolas,'Courier New',monospace\">    <span style=\"color: #000080; font-weight: bold\">4</span>       <span style=\"color: #000080; font-weight: bold\">-7.38634</span>      <span style=\"color: #000080; font-weight: bold\">-1.05331e-01</span>       +<span style=\"color: #000080; font-weight: bold\">1.57216e-02</span>\n",
       "</pre>\n"
      ],
      "text/plain": [
       "<rich.jupyter.JupyterRenderable at 0x7f50a9c21550>"
      ]
     },
     "metadata": {},
     "output_type": "display_data"
    },
    {
     "data": {
      "text/html": [
       "<pre style=\"white-space:pre;overflow-x:auto;line-height:normal;font-family:Menlo,'DejaVu Sans Mono',consolas,'Courier New',monospace\">    <span style=\"color: #000080; font-weight: bold\">5</span>       <span style=\"color: #000080; font-weight: bold\">-7.34959</span>      <span style=\"color: #000080; font-weight: bold\">-1.06403e-01</span>       +<span style=\"color: #000080; font-weight: bold\">4.99987e-03</span>\n",
       "</pre>\n"
      ],
      "text/plain": [
       "<rich.jupyter.JupyterRenderable at 0x7f50a9d2ef70>"
      ]
     },
     "metadata": {},
     "output_type": "display_data"
    },
    {
     "data": {
      "text/html": [
       "<pre style=\"white-space:pre;overflow-x:auto;line-height:normal;font-family:Menlo,'DejaVu Sans Mono',consolas,'Courier New',monospace\">    <span style=\"color: #000080; font-weight: bold\">6</span>       <span style=\"color: #000080; font-weight: bold\">-7.33880</span>      <span style=\"color: #000080; font-weight: bold\">-1.06389e-01</span>       +<span style=\"color: #000080; font-weight: bold\">1.47022e-03</span>\n",
       "</pre>\n"
      ],
      "text/plain": [
       "<rich.jupyter.JupyterRenderable at 0x7f50a9c21550>"
      ]
     },
     "metadata": {},
     "output_type": "display_data"
    },
    {
     "data": {
      "text/html": [
       "<pre style=\"white-space:pre;overflow-x:auto;line-height:normal;font-family:Menlo,'DejaVu Sans Mono',consolas,'Courier New',monospace\">    <span style=\"color: #000080; font-weight: bold\">7</span>       <span style=\"color: #000080; font-weight: bold\">-7.33517</span>      <span style=\"color: #000080; font-weight: bold\">-1.06223e-01</span>       +<span style=\"color: #000080; font-weight: bold\">4.94698e-04</span>\n",
       "</pre>\n"
      ],
      "text/plain": [
       "<rich.jupyter.JupyterRenderable at 0x7f50ac080e20>"
      ]
     },
     "metadata": {},
     "output_type": "display_data"
    },
    {
     "data": {
      "text/html": [
       "<pre style=\"white-space:pre;overflow-x:auto;line-height:normal;font-family:Menlo,'DejaVu Sans Mono',consolas,'Courier New',monospace\">    <span style=\"color: #000080; font-weight: bold\">8</span>       <span style=\"color: #000080; font-weight: bold\">-7.33473</span>      <span style=\"color: #000080; font-weight: bold\">-1.05965e-01</span>       +<span style=\"color: #000080; font-weight: bold\">2.25394e-04</span>\n",
       "</pre>\n"
      ],
      "text/plain": [
       "<rich.jupyter.JupyterRenderable at 0x7f50a9c21550>"
      ]
     },
     "metadata": {},
     "output_type": "display_data"
    },
    {
     "data": {
      "text/html": [
       "<pre style=\"white-space:pre;overflow-x:auto;line-height:normal;font-family:Menlo,'DejaVu Sans Mono',consolas,'Courier New',monospace\">    <span style=\"color: #000080; font-weight: bold\">9</span>       <span style=\"color: #000080; font-weight: bold\">-7.33481</span>      <span style=\"color: #000080; font-weight: bold\">-1.05797e-01</span>       +<span style=\"color: #000080; font-weight: bold\">1.25070e-04</span>\n",
       "</pre>\n"
      ],
      "text/plain": [
       "<rich.jupyter.JupyterRenderable at 0x7f50ac080e20>"
      ]
     },
     "metadata": {},
     "output_type": "display_data"
    },
    {
     "data": {
      "text/html": [
       "<pre style=\"white-space:pre;overflow-x:auto;line-height:normal;font-family:Menlo,'DejaVu Sans Mono',consolas,'Courier New',monospace\">   <span style=\"color: #000080; font-weight: bold\">10</span>       <span style=\"color: #000080; font-weight: bold\">-7.33495</span>      <span style=\"color: #000080; font-weight: bold\">-1.05694e-01</span>       +<span style=\"color: #000080; font-weight: bold\">6.74942e-05</span>\n",
       "</pre>\n"
      ],
      "text/plain": [
       "<rich.jupyter.JupyterRenderable at 0x7f50a9c21550>"
      ]
     },
     "metadata": {},
     "output_type": "display_data"
    },
    {
     "data": {
      "text/html": [
       "<pre style=\"white-space:pre;overflow-x:auto;line-height:normal;font-family:Menlo,'DejaVu Sans Mono',consolas,'Courier New',monospace\">   <span style=\"color: #000080; font-weight: bold\">11</span>       <span style=\"color: #000080; font-weight: bold\">-7.33506</span>      <span style=\"color: #000080; font-weight: bold\">-1.05634e-01</span>       +<span style=\"color: #000080; font-weight: bold\">3.56083e-05</span>\n",
       "</pre>\n"
      ],
      "text/plain": [
       "<rich.jupyter.JupyterRenderable at 0x7f50ac080e20>"
      ]
     },
     "metadata": {},
     "output_type": "display_data"
    },
    {
     "data": {
      "text/html": [
       "<pre style=\"white-space:pre;overflow-x:auto;line-height:normal;font-family:Menlo,'DejaVu Sans Mono',consolas,'Courier New',monospace\">   <span style=\"color: #000080; font-weight: bold\">12</span>       <span style=\"color: #000080; font-weight: bold\">-7.33513</span>      <span style=\"color: #000080; font-weight: bold\">-1.05600e-01</span>       +<span style=\"color: #000080; font-weight: bold\">1.85342e-05</span>\n",
       "</pre>\n"
      ],
      "text/plain": [
       "<rich.jupyter.JupyterRenderable at 0x7f50ac080d60>"
      ]
     },
     "metadata": {},
     "output_type": "display_data"
    },
    {
     "data": {
      "text/html": [
       "<pre style=\"white-space:pre;overflow-x:auto;line-height:normal;font-family:Menlo,'DejaVu Sans Mono',consolas,'Courier New',monospace\">   <span style=\"color: #000080; font-weight: bold\">13</span>       <span style=\"color: #000080; font-weight: bold\">-7.33517</span>      <span style=\"color: #000080; font-weight: bold\">-1.05581e-01</span>       +<span style=\"color: #000080; font-weight: bold\">9.57805e-06</span>\n",
       "</pre>\n"
      ],
      "text/plain": [
       "<rich.jupyter.JupyterRenderable at 0x7f50a9d2ef70>"
      ]
     },
     "metadata": {},
     "output_type": "display_data"
    }
   ],
   "source": [
    "#Distance of the nucley from grid center\n",
    "a =  5.122/2\n",
    "\n",
    "#Nuclear charges on centers AB\n",
    "Za  = 3\n",
    "Zb = 0\n",
    "\n",
    "#Set polaization. 1 Unpolarized, 2 Polarized\n",
    "pol = 1\n",
    "\n",
    "Nmo = [[2]]\n",
    "N   = [[3]]\n",
    "\n",
    "optKS = {\n",
    "        \"interaction_type\" : \"dft\",\n",
    "        \"SYM\" : False,\n",
    "        \"FRACTIONAL\" : True,\n",
    "        }\n",
    "\n",
    "#Grid Options\n",
    "NP = 7 #Number of points per block\n",
    "NM =  [4,4] #Number of blocks [angular, radial]\n",
    "L = np.arccosh(15./a) #Maximum radial coordinate value\n",
    "loc = np.array(range(-4,5)) #Non inclusive on upper bound\n",
    "\n",
    "#Create and initialize grid object\n",
    "grid = Psgrid(NP, NM, a, L, loc)\n",
    "grid.initialize()\n",
    "\n",
    "#Kohn Sham object\n",
    "KS = Kohnsham(grid, Za, Zb, pol, Nmo, N, optKS)\n",
    "KS.scf({})\n",
    "\n",
    "#Store information of KS\n",
    "# KS0 = KS.copy()\n",
    "\n",
    "#Extract Isolated Fragment Density. \n",
    "Isolated_D = KS.n.copy()"
   ]
  },
  {
   "cell_type": "markdown",
   "metadata": {},
   "source": [
    "---\n",
    "### Perform PDFT Calculation. \n",
    "Currently the method used is \"OrbitalInvert\". \n",
    "But original code may have used \"WuYang\". \n",
    "Code should run as it is but for idential calculations increase to grid size to: [7,12,12]"
   ]
  },
  {
   "cell_type": "code",
   "execution_count": 47,
   "metadata": {},
   "outputs": [
    {
     "name": "stdout",
     "output_type": "stream",
     "text": [
      "Warning: If len(KS) > 1 Has not been migrated from matlab\n"
     ]
    },
    {
     "data": {
      "text/html": [
       "<pre style=\"white-space:pre;overflow-x:auto;line-height:normal;font-family:Menlo,'DejaVu Sans Mono',consolas,'Courier New',monospace\">                Total Energy <span style=\"font-weight: bold\">(</span> a.u.<span style=\"font-weight: bold\">)</span>                               Inversion                \n",
       "\n",
       "</pre>\n"
      ],
      "text/plain": [
       "<rich.jupyter.JupyterRenderable at 0x7f50b0eba970>"
      ]
     },
     "metadata": {},
     "output_type": "display_data"
    },
    {
     "data": {
      "text/html": [
       "<pre style=\"white-space:pre;overflow-x:auto;line-height:normal;font-family:Menlo,'DejaVu Sans Mono',consolas,'Courier New',monospace\">                __________________                ____________________________________     \n",
       "\n",
       "</pre>\n"
      ],
      "text/plain": [
       "<rich.jupyter.JupyterRenderable at 0x7f50b45f03a0>"
      ]
     },
     "metadata": {},
     "output_type": "display_data"
    },
    {
     "data": {
      "text/html": [
       "<pre style=\"white-space:pre;overflow-x:auto;line-height:normal;font-family:Menlo,'DejaVu Sans Mono',consolas,'Courier New',monospace\">Iteration         A              B                  iters      optimality        res       \n",
       "\n",
       "</pre>\n"
      ],
      "text/plain": [
       "<rich.jupyter.JupyterRenderable at 0x7f50ac3cf9a0>"
      ]
     },
     "metadata": {},
     "output_type": "display_data"
    },
    {
     "data": {
      "text/html": [
       "<pre style=\"white-space:pre;overflow-x:auto;line-height:normal;font-family:Menlo,'DejaVu Sans Mono',consolas,'Courier New',monospace\">___________________________________________________________________________________________ \n",
       "\n",
       "</pre>\n"
      ],
      "text/plain": [
       "<rich.jupyter.JupyterRenderable at 0x7f50ac3cfbb0>"
      ]
     },
     "metadata": {},
     "output_type": "display_data"
    },
    {
     "data": {
      "text/html": [
       "<pre style=\"white-space:pre;overflow-x:auto;line-height:normal;font-family:Menlo,'DejaVu Sans Mono',consolas,'Courier New',monospace\">    <span style=\"color: #000080; font-weight: bold\">1</span>           <span style=\"color: #000080; font-weight: bold\">-8.62301</span>     <span style=\"color: #000080; font-weight: bold\">-8.62301</span>       <span style=\"color: #000080; font-weight: bold\">1.000e+00</span> \n",
       "</pre>\n"
      ],
      "text/plain": [
       "<rich.jupyter.JupyterRenderable at 0x7f50b1093c40>"
      ]
     },
     "metadata": {},
     "output_type": "display_data"
    },
    {
     "data": {
      "text/html": [
       "<pre style=\"white-space:pre;overflow-x:auto;line-height:normal;font-family:Menlo,'DejaVu Sans Mono',consolas,'Courier New',monospace\">    <span style=\"color: #000080; font-weight: bold\">2</span>           <span style=\"color: #000080; font-weight: bold\">-7.59515</span>     <span style=\"color: #000080; font-weight: bold\">-7.59515</span>       <span style=\"color: #000080; font-weight: bold\">1.530e-01</span> \n",
       "</pre>\n"
      ],
      "text/plain": [
       "<rich.jupyter.JupyterRenderable at 0x7f50b1093ca0>"
      ]
     },
     "metadata": {},
     "output_type": "display_data"
    },
    {
     "data": {
      "text/html": [
       "<pre style=\"white-space:pre;overflow-x:auto;line-height:normal;font-family:Menlo,'DejaVu Sans Mono',consolas,'Courier New',monospace\">    <span style=\"color: #000080; font-weight: bold\">3</span>           <span style=\"color: #000080; font-weight: bold\">-7.38724</span>     <span style=\"color: #000080; font-weight: bold\">-7.38724</span>       <span style=\"color: #000080; font-weight: bold\">5.758e-02</span> \n",
       "</pre>\n"
      ],
      "text/plain": [
       "<rich.jupyter.JupyterRenderable at 0x7f50b1093c40>"
      ]
     },
     "metadata": {},
     "output_type": "display_data"
    },
    {
     "data": {
      "text/html": [
       "<pre style=\"white-space:pre;overflow-x:auto;line-height:normal;font-family:Menlo,'DejaVu Sans Mono',consolas,'Courier New',monospace\">    <span style=\"color: #000080; font-weight: bold\">4</span>           <span style=\"color: #000080; font-weight: bold\">-7.34928</span>     <span style=\"color: #000080; font-weight: bold\">-7.34928</span>       <span style=\"color: #000080; font-weight: bold\">2.753e-02</span> \n",
       "</pre>\n"
      ],
      "text/plain": [
       "<rich.jupyter.JupyterRenderable at 0x7f50b0eba4f0>"
      ]
     },
     "metadata": {},
     "output_type": "display_data"
    },
    {
     "data": {
      "text/html": [
       "<pre style=\"white-space:pre;overflow-x:auto;line-height:normal;font-family:Menlo,'DejaVu Sans Mono',consolas,'Courier New',monospace\">    <span style=\"color: #000080; font-weight: bold\">5</span>           <span style=\"color: #000080; font-weight: bold\">-7.34331</span>     <span style=\"color: #000080; font-weight: bold\">-7.34331</span>       <span style=\"color: #000080; font-weight: bold\">1.291e-02</span> \n",
       "</pre>\n"
      ],
      "text/plain": [
       "<rich.jupyter.JupyterRenderable at 0x7f50ac3cfbb0>"
      ]
     },
     "metadata": {},
     "output_type": "display_data"
    },
    {
     "data": {
      "text/html": [
       "<pre style=\"white-space:pre;overflow-x:auto;line-height:normal;font-family:Menlo,'DejaVu Sans Mono',consolas,'Courier New',monospace\">    <span style=\"color: #000080; font-weight: bold\">6</span>           <span style=\"color: #000080; font-weight: bold\">-7.34300</span>     <span style=\"color: #000080; font-weight: bold\">-7.34300</span>       <span style=\"color: #000080; font-weight: bold\">6.027e-03</span> \n",
       "</pre>\n"
      ],
      "text/plain": [
       "<rich.jupyter.JupyterRenderable at 0x7f50b0eba970>"
      ]
     },
     "metadata": {},
     "output_type": "display_data"
    },
    {
     "data": {
      "text/html": [
       "<pre style=\"white-space:pre;overflow-x:auto;line-height:normal;font-family:Menlo,'DejaVu Sans Mono',consolas,'Courier New',monospace\">    <span style=\"color: #000080; font-weight: bold\">7</span>           <span style=\"color: #000080; font-weight: bold\">-7.34348</span>     <span style=\"color: #000080; font-weight: bold\">-7.34348</span>       <span style=\"color: #000080; font-weight: bold\">2.683e-03</span> \n",
       "</pre>\n"
      ],
      "text/plain": [
       "<rich.jupyter.JupyterRenderable at 0x7f50ac2e1af0>"
      ]
     },
     "metadata": {},
     "output_type": "display_data"
    },
    {
     "data": {
      "text/html": [
       "<pre style=\"white-space:pre;overflow-x:auto;line-height:normal;font-family:Menlo,'DejaVu Sans Mono',consolas,'Courier New',monospace\">    <span style=\"color: #000080; font-weight: bold\">8</span>           <span style=\"color: #000080; font-weight: bold\">-7.34364</span>     <span style=\"color: #000080; font-weight: bold\">-7.34364</span>       <span style=\"color: #000080; font-weight: bold\">1.377e-03</span> \n",
       "</pre>\n"
      ],
      "text/plain": [
       "<rich.jupyter.JupyterRenderable at 0x7f50b0eba970>"
      ]
     },
     "metadata": {},
     "output_type": "display_data"
    },
    {
     "data": {
      "text/html": [
       "<pre style=\"white-space:pre;overflow-x:auto;line-height:normal;font-family:Menlo,'DejaVu Sans Mono',consolas,'Courier New',monospace\">    <span style=\"color: #000080; font-weight: bold\">9</span>           <span style=\"color: #000080; font-weight: bold\">-7.34379</span>     <span style=\"color: #000080; font-weight: bold\">-7.34379</span>       <span style=\"color: #000080; font-weight: bold\">6.411e-04</span> \n",
       "</pre>\n"
      ],
      "text/plain": [
       "<rich.jupyter.JupyterRenderable at 0x7f50b45f03a0>"
      ]
     },
     "metadata": {},
     "output_type": "display_data"
    },
    {
     "data": {
      "text/html": [
       "<pre style=\"white-space:pre;overflow-x:auto;line-height:normal;font-family:Menlo,'DejaVu Sans Mono',consolas,'Courier New',monospace\">   <span style=\"color: #000080; font-weight: bold\">10</span>           <span style=\"color: #000080; font-weight: bold\">-7.34386</span>     <span style=\"color: #000080; font-weight: bold\">-7.34386</span>       <span style=\"color: #000080; font-weight: bold\">2.991e-04</span> \n",
       "</pre>\n"
      ],
      "text/plain": [
       "<rich.jupyter.JupyterRenderable at 0x7f50b45f03a0>"
      ]
     },
     "metadata": {},
     "output_type": "display_data"
    },
    {
     "data": {
      "text/html": [
       "<pre style=\"white-space:pre;overflow-x:auto;line-height:normal;font-family:Menlo,'DejaVu Sans Mono',consolas,'Courier New',monospace\">   <span style=\"color: #000080; font-weight: bold\">11</span>           <span style=\"color: #000080; font-weight: bold\">-7.34388</span>     <span style=\"color: #000080; font-weight: bold\">-7.34388</span>       <span style=\"color: #000080; font-weight: bold\">1.403e-04</span> \n",
       "</pre>\n"
      ],
      "text/plain": [
       "<rich.jupyter.JupyterRenderable at 0x7f50b45f03a0>"
      ]
     },
     "metadata": {},
     "output_type": "display_data"
    },
    {
     "data": {
      "text/html": [
       "<pre style=\"white-space:pre;overflow-x:auto;line-height:normal;font-family:Menlo,'DejaVu Sans Mono',consolas,'Courier New',monospace\">   <span style=\"color: #000080; font-weight: bold\">12</span>           <span style=\"color: #000080; font-weight: bold\">-7.34390</span>     <span style=\"color: #000080; font-weight: bold\">-7.34390</span>       <span style=\"color: #000080; font-weight: bold\">6.598e-05</span> \n",
       "</pre>\n"
      ],
      "text/plain": [
       "<rich.jupyter.JupyterRenderable at 0x7f50ac2e1af0>"
      ]
     },
     "metadata": {},
     "output_type": "display_data"
    },
    {
     "data": {
      "text/html": [
       "<pre style=\"white-space:pre;overflow-x:auto;line-height:normal;font-family:Menlo,'DejaVu Sans Mono',consolas,'Courier New',monospace\">   <span style=\"color: #000080; font-weight: bold\">13</span>           <span style=\"color: #000080; font-weight: bold\">-7.34390</span>     <span style=\"color: #000080; font-weight: bold\">-7.34390</span>       <span style=\"color: #000080; font-weight: bold\">3.116e-05</span> \n",
       "</pre>\n"
      ],
      "text/plain": [
       "<rich.jupyter.JupyterRenderable at 0x7f50b0ed0e20>"
      ]
     },
     "metadata": {},
     "output_type": "display_data"
    },
    {
     "data": {
      "text/html": [
       "<pre style=\"white-space:pre;overflow-x:auto;line-height:normal;font-family:Menlo,'DejaVu Sans Mono',consolas,'Courier New',monospace\">   <span style=\"color: #000080; font-weight: bold\">14</span>           <span style=\"color: #000080; font-weight: bold\">-7.34390</span>     <span style=\"color: #000080; font-weight: bold\">-7.34390</span>       <span style=\"color: #000080; font-weight: bold\">1.481e-05</span> \n",
       "</pre>\n"
      ],
      "text/plain": [
       "<rich.jupyter.JupyterRenderable at 0x7f50ac3cf8e0>"
      ]
     },
     "metadata": {},
     "output_type": "display_data"
    },
    {
     "data": {
      "text/html": [
       "<pre style=\"white-space:pre;overflow-x:auto;line-height:normal;font-family:Menlo,'DejaVu Sans Mono',consolas,'Courier New',monospace\">   <span style=\"color: #000080; font-weight: bold\">15</span>           <span style=\"color: #000080; font-weight: bold\">-7.34390</span>     <span style=\"color: #000080; font-weight: bold\">-7.34390</span>       <span style=\"color: #000080; font-weight: bold\">7.069e-06</span> \n",
       "</pre>\n"
      ],
      "text/plain": [
       "<rich.jupyter.JupyterRenderable at 0x7f50b45f03a0>"
      ]
     },
     "metadata": {},
     "output_type": "display_data"
    },
    {
     "data": {
      "text/html": [
       "<pre style=\"white-space:pre;overflow-x:auto;line-height:normal;font-family:Menlo,'DejaVu Sans Mono',consolas,'Courier New',monospace\">   <span style=\"color: #000080; font-weight: bold\">16</span>           <span style=\"color: #000080; font-weight: bold\">-7.34390</span>     <span style=\"color: #000080; font-weight: bold\">-7.34390</span>       <span style=\"color: #000080; font-weight: bold\">3.397e-06</span> \n",
       "</pre>\n"
      ],
      "text/plain": [
       "<rich.jupyter.JupyterRenderable at 0x7f50b45f03a0>"
      ]
     },
     "metadata": {},
     "output_type": "display_data"
    },
    {
     "data": {
      "text/html": [
       "<pre style=\"white-space:pre;overflow-x:auto;line-height:normal;font-family:Menlo,'DejaVu Sans Mono',consolas,'Courier New',monospace\">   <span style=\"color: #000080; font-weight: bold\">17</span>           <span style=\"color: #000080; font-weight: bold\">-7.34390</span>     <span style=\"color: #000080; font-weight: bold\">-7.34390</span>       <span style=\"color: #000080; font-weight: bold\">1.641e-06</span> \n",
       "</pre>\n"
      ],
      "text/plain": [
       "<rich.jupyter.JupyterRenderable at 0x7f50b45f03a0>"
      ]
     },
     "metadata": {},
     "output_type": "display_data"
    },
    {
     "data": {
      "text/html": [
       "<pre style=\"white-space:pre;overflow-x:auto;line-height:normal;font-family:Menlo,'DejaVu Sans Mono',consolas,'Courier New',monospace\">   <span style=\"color: #000080; font-weight: bold\">18</span>           <span style=\"color: #000080; font-weight: bold\">-7.34390</span>     <span style=\"color: #000080; font-weight: bold\">-7.34390</span>       <span style=\"color: #000080; font-weight: bold\">7.943e-07</span> \n",
       "</pre>\n"
      ],
      "text/plain": [
       "<rich.jupyter.JupyterRenderable at 0x7f50b1093c40>"
      ]
     },
     "metadata": {},
     "output_type": "display_data"
    },
    {
     "data": {
      "text/html": [
       "<pre style=\"white-space:pre;overflow-x:auto;line-height:normal;font-family:Menlo,'DejaVu Sans Mono',consolas,'Courier New',monospace\">   <span style=\"color: #000080; font-weight: bold\">19</span>           <span style=\"color: #000080; font-weight: bold\">-7.34390</span>     <span style=\"color: #000080; font-weight: bold\">-7.34390</span>       <span style=\"color: #000080; font-weight: bold\">3.854e-07</span> \n",
       "</pre>\n"
      ],
      "text/plain": [
       "<rich.jupyter.JupyterRenderable at 0x7f50ac3cf9a0>"
      ]
     },
     "metadata": {},
     "output_type": "display_data"
    },
    {
     "data": {
      "text/html": [
       "<pre style=\"white-space:pre;overflow-x:auto;line-height:normal;font-family:Menlo,'DejaVu Sans Mono',consolas,'Courier New',monospace\">   <span style=\"color: #000080; font-weight: bold\">20</span>           <span style=\"color: #000080; font-weight: bold\">-7.34390</span>     <span style=\"color: #000080; font-weight: bold\">-7.34390</span>       <span style=\"color: #000080; font-weight: bold\">1.874e-07</span> \n",
       "</pre>\n"
      ],
      "text/plain": [
       "<rich.jupyter.JupyterRenderable at 0x7f50ac2e1af0>"
      ]
     },
     "metadata": {},
     "output_type": "display_data"
    },
    {
     "data": {
      "text/html": [
       "<pre style=\"white-space:pre;overflow-x:auto;line-height:normal;font-family:Menlo,'DejaVu Sans Mono',consolas,'Courier New',monospace\">   <span style=\"color: #000080; font-weight: bold\">21</span>           <span style=\"color: #000080; font-weight: bold\">-7.34390</span>     <span style=\"color: #000080; font-weight: bold\">-7.34390</span>       <span style=\"color: #000080; font-weight: bold\">9.139e-08</span> \n",
       "</pre>\n"
      ],
      "text/plain": [
       "<rich.jupyter.JupyterRenderable at 0x7f50ac3cf8e0>"
      ]
     },
     "metadata": {},
     "output_type": "display_data"
    },
    {
     "data": {
      "text/html": [
       "<pre style=\"white-space:pre;overflow-x:auto;line-height:normal;font-family:Menlo,'DejaVu Sans Mono',consolas,'Courier New',monospace\">   <span style=\"color: #000080; font-weight: bold\">22</span>           <span style=\"color: #000080; font-weight: bold\">-7.34390</span>     <span style=\"color: #000080; font-weight: bold\">-7.34390</span>       <span style=\"color: #000080; font-weight: bold\">4.474e-08</span> \n",
       "</pre>\n"
      ],
      "text/plain": [
       "<rich.jupyter.JupyterRenderable at 0x7f50b0eba970>"
      ]
     },
     "metadata": {},
     "output_type": "display_data"
    },
    {
     "data": {
      "text/html": [
       "<pre style=\"white-space:pre;overflow-x:auto;line-height:normal;font-family:Menlo,'DejaVu Sans Mono',consolas,'Courier New',monospace\">   <span style=\"color: #000080; font-weight: bold\">23</span>           <span style=\"color: #000080; font-weight: bold\">-7.34390</span>     <span style=\"color: #000080; font-weight: bold\">-7.34390</span>       <span style=\"color: #000080; font-weight: bold\">2.198e-08</span> \n",
       "</pre>\n"
      ],
      "text/plain": [
       "<rich.jupyter.JupyterRenderable at 0x7f50ac2e1af0>"
      ]
     },
     "metadata": {},
     "output_type": "display_data"
    },
    {
     "data": {
      "text/html": [
       "<pre style=\"white-space:pre;overflow-x:auto;line-height:normal;font-family:Menlo,'DejaVu Sans Mono',consolas,'Courier New',monospace\">   <span style=\"color: #000080; font-weight: bold\">24</span>           <span style=\"color: #000080; font-weight: bold\">-7.34390</span>     <span style=\"color: #000080; font-weight: bold\">-7.34390</span>       <span style=\"color: #000080; font-weight: bold\">1.082e-08</span> \n",
       "</pre>\n"
      ],
      "text/plain": [
       "<rich.jupyter.JupyterRenderable at 0x7f50ac3cf8e0>"
      ]
     },
     "metadata": {},
     "output_type": "display_data"
    },
    {
     "data": {
      "text/html": [
       "<pre style=\"white-space:pre;overflow-x:auto;line-height:normal;font-family:Menlo,'DejaVu Sans Mono',consolas,'Courier New',monospace\">   <span style=\"color: #000080; font-weight: bold\">25</span>           <span style=\"color: #000080; font-weight: bold\">-7.34390</span>     <span style=\"color: #000080; font-weight: bold\">-7.34390</span>       <span style=\"color: #000080; font-weight: bold\">5.334e-09</span> \n",
       "</pre>\n"
      ],
      "text/plain": [
       "<rich.jupyter.JupyterRenderable at 0x7f50b45f03a0>"
      ]
     },
     "metadata": {},
     "output_type": "display_data"
    },
    {
     "data": {
      "text/html": [
       "<pre style=\"white-space:pre;overflow-x:auto;line-height:normal;font-family:Menlo,'DejaVu Sans Mono',consolas,'Courier New',monospace\">   <span style=\"color: #000080; font-weight: bold\">26</span>           <span style=\"color: #000080; font-weight: bold\">-7.34390</span>     <span style=\"color: #000080; font-weight: bold\">-7.34390</span>       <span style=\"color: #000080; font-weight: bold\">2.634e-09</span> \n",
       "</pre>\n"
      ],
      "text/plain": [
       "<rich.jupyter.JupyterRenderable at 0x7f50b45f03a0>"
      ]
     },
     "metadata": {},
     "output_type": "display_data"
    },
    {
     "data": {
      "text/html": [
       "<pre style=\"white-space:pre;overflow-x:auto;line-height:normal;font-family:Menlo,'DejaVu Sans Mono',consolas,'Courier New',monospace\">   <span style=\"color: #000080; font-weight: bold\">27</span>           <span style=\"color: #000080; font-weight: bold\">-7.34390</span>     <span style=\"color: #000080; font-weight: bold\">-7.34390</span>       <span style=\"color: #000080; font-weight: bold\">1.302e-09</span> \n",
       "</pre>\n"
      ],
      "text/plain": [
       "<rich.jupyter.JupyterRenderable at 0x7f50ac2e1af0>"
      ]
     },
     "metadata": {},
     "output_type": "display_data"
    },
    {
     "data": {
      "text/html": [
       "<pre style=\"white-space:pre;overflow-x:auto;line-height:normal;font-family:Menlo,'DejaVu Sans Mono',consolas,'Courier New',monospace\">   <span style=\"color: #000080; font-weight: bold\">28</span>           <span style=\"color: #000080; font-weight: bold\">-7.34390</span>     <span style=\"color: #000080; font-weight: bold\">-7.34390</span>       <span style=\"color: #000080; font-weight: bold\">6.452e-10</span> \n",
       "</pre>\n"
      ],
      "text/plain": [
       "<rich.jupyter.JupyterRenderable at 0x7f50ac2e1af0>"
      ]
     },
     "metadata": {},
     "output_type": "display_data"
    },
    {
     "data": {
      "text/html": [
       "<pre style=\"white-space:pre;overflow-x:auto;line-height:normal;font-family:Menlo,'DejaVu Sans Mono',consolas,'Courier New',monospace\">   <span style=\"color: #000080; font-weight: bold\">29</span>           <span style=\"color: #000080; font-weight: bold\">-7.34390</span>     <span style=\"color: #000080; font-weight: bold\">-7.34390</span>       <span style=\"color: #000080; font-weight: bold\">3.201e-10</span> \n",
       "</pre>\n"
      ],
      "text/plain": [
       "<rich.jupyter.JupyterRenderable at 0x7f50b0ed0e20>"
      ]
     },
     "metadata": {},
     "output_type": "display_data"
    },
    {
     "data": {
      "text/html": [
       "<pre style=\"white-space:pre;overflow-x:auto;line-height:normal;font-family:Menlo,'DejaVu Sans Mono',consolas,'Courier New',monospace\">   <span style=\"color: #000080; font-weight: bold\">30</span>           <span style=\"color: #000080; font-weight: bold\">-7.34390</span>     <span style=\"color: #000080; font-weight: bold\">-7.34390</span>       <span style=\"color: #000080; font-weight: bold\">1.590e-10</span> \n",
       "</pre>\n"
      ],
      "text/plain": [
       "<rich.jupyter.JupyterRenderable at 0x7f50b0ed0e20>"
      ]
     },
     "metadata": {},
     "output_type": "display_data"
    },
    {
     "data": {
      "text/html": [
       "<pre style=\"white-space:pre;overflow-x:auto;line-height:normal;font-family:Menlo,'DejaVu Sans Mono',consolas,'Courier New',monospace\">   <span style=\"color: #000080; font-weight: bold\">31</span>           <span style=\"color: #000080; font-weight: bold\">-7.34390</span>     <span style=\"color: #000080; font-weight: bold\">-7.34390</span>       <span style=\"color: #000080; font-weight: bold\">7.903e-11</span> \n",
       "</pre>\n"
      ],
      "text/plain": [
       "<rich.jupyter.JupyterRenderable at 0x7f50ac3cfbb0>"
      ]
     },
     "metadata": {},
     "output_type": "display_data"
    },
    {
     "data": {
      "text/html": [
       "<pre style=\"white-space:pre;overflow-x:auto;line-height:normal;font-family:Menlo,'DejaVu Sans Mono',consolas,'Courier New',monospace\">   <span style=\"color: #000080; font-weight: bold\">32</span>           <span style=\"color: #000080; font-weight: bold\">-7.34390</span>     <span style=\"color: #000080; font-weight: bold\">-7.34390</span>       <span style=\"color: #000080; font-weight: bold\">3.930e-11</span> \n",
       "</pre>\n"
      ],
      "text/plain": [
       "<rich.jupyter.JupyterRenderable at 0x7f50ac2e1af0>"
      ]
     },
     "metadata": {},
     "output_type": "display_data"
    },
    {
     "data": {
      "text/html": [
       "<pre style=\"white-space:pre;overflow-x:auto;line-height:normal;font-family:Menlo,'DejaVu Sans Mono',consolas,'Courier New',monospace\">   <span style=\"color: #000080; font-weight: bold\">33</span>           <span style=\"color: #000080; font-weight: bold\">-7.34390</span>     <span style=\"color: #000080; font-weight: bold\">-7.34390</span>       <span style=\"color: #000080; font-weight: bold\">1.957e-11</span> \n",
       "</pre>\n"
      ],
      "text/plain": [
       "<rich.jupyter.JupyterRenderable at 0x7f50ac2e1af0>"
      ]
     },
     "metadata": {},
     "output_type": "display_data"
    },
    {
     "data": {
      "text/html": [
       "<pre style=\"white-space:pre;overflow-x:auto;line-height:normal;font-family:Menlo,'DejaVu Sans Mono',consolas,'Courier New',monospace\">   <span style=\"color: #000080; font-weight: bold\">34</span>           <span style=\"color: #000080; font-weight: bold\">-7.34390</span>     <span style=\"color: #000080; font-weight: bold\">-7.34390</span>       <span style=\"color: #000080; font-weight: bold\">9.748e-12</span> \n",
       "</pre>\n"
      ],
      "text/plain": [
       "<rich.jupyter.JupyterRenderable at 0x7f50ac3cf8e0>"
      ]
     },
     "metadata": {},
     "output_type": "display_data"
    },
    {
     "data": {
      "text/html": [
       "<pre style=\"white-space:pre;overflow-x:auto;line-height:normal;font-family:Menlo,'DejaVu Sans Mono',consolas,'Courier New',monospace\">   <span style=\"color: #000080; font-weight: bold\">35</span>           <span style=\"color: #000080; font-weight: bold\">-7.34390</span>     <span style=\"color: #000080; font-weight: bold\">-7.34390</span>       <span style=\"color: #000080; font-weight: bold\">4.856e-12</span> \n",
       "</pre>\n"
      ],
      "text/plain": [
       "<rich.jupyter.JupyterRenderable at 0x7f50b0ed0e20>"
      ]
     },
     "metadata": {},
     "output_type": "display_data"
    },
    {
     "data": {
      "text/html": [
       "<pre style=\"white-space:pre;overflow-x:auto;line-height:normal;font-family:Menlo,'DejaVu Sans Mono',consolas,'Courier New',monospace\">   <span style=\"color: #000080; font-weight: bold\">36</span>           <span style=\"color: #000080; font-weight: bold\">-7.34390</span>     <span style=\"color: #000080; font-weight: bold\">-7.34390</span>       <span style=\"color: #000080; font-weight: bold\">2.420e-12</span> \n",
       "</pre>\n"
      ],
      "text/plain": [
       "<rich.jupyter.JupyterRenderable at 0x7f50ac3cf9a0>"
      ]
     },
     "metadata": {},
     "output_type": "display_data"
    },
    {
     "data": {
      "text/html": [
       "<pre style=\"white-space:pre;overflow-x:auto;line-height:normal;font-family:Menlo,'DejaVu Sans Mono',consolas,'Courier New',monospace\">   <span style=\"color: #000080; font-weight: bold\">37</span>           <span style=\"color: #000080; font-weight: bold\">-7.34390</span>     <span style=\"color: #000080; font-weight: bold\">-7.34390</span>       <span style=\"color: #000080; font-weight: bold\">1.206e-12</span> \n",
       "</pre>\n"
      ],
      "text/plain": [
       "<rich.jupyter.JupyterRenderable at 0x7f50b0ed0e20>"
      ]
     },
     "metadata": {},
     "output_type": "display_data"
    },
    {
     "data": {
      "text/html": [
       "<pre style=\"white-space:pre;overflow-x:auto;line-height:normal;font-family:Menlo,'DejaVu Sans Mono',consolas,'Courier New',monospace\">   <span style=\"color: #000080; font-weight: bold\">38</span>           <span style=\"color: #000080; font-weight: bold\">-7.34390</span>     <span style=\"color: #000080; font-weight: bold\">-7.34390</span>       <span style=\"color: #000080; font-weight: bold\">6.017e-13</span> \n",
       "</pre>\n"
      ],
      "text/plain": [
       "<rich.jupyter.JupyterRenderable at 0x7f50b45f03a0>"
      ]
     },
     "metadata": {},
     "output_type": "display_data"
    },
    {
     "data": {
      "text/html": [
       "<pre style=\"white-space:pre;overflow-x:auto;line-height:normal;font-family:Menlo,'DejaVu Sans Mono',consolas,'Courier New',monospace\">                Total Energy <span style=\"font-weight: bold\">(</span> a.u.<span style=\"font-weight: bold\">)</span>                               Inversion                \n",
       "\n",
       "</pre>\n"
      ],
      "text/plain": [
       "<rich.jupyter.JupyterRenderable at 0x7f50ac3cfbb0>"
      ]
     },
     "metadata": {},
     "output_type": "display_data"
    },
    {
     "data": {
      "text/html": [
       "<pre style=\"white-space:pre;overflow-x:auto;line-height:normal;font-family:Menlo,'DejaVu Sans Mono',consolas,'Courier New',monospace\">                __________________                ____________________________________     \n",
       "\n",
       "</pre>\n"
      ],
      "text/plain": [
       "<rich.jupyter.JupyterRenderable at 0x7f50b45e5b50>"
      ]
     },
     "metadata": {},
     "output_type": "display_data"
    },
    {
     "data": {
      "text/html": [
       "<pre style=\"white-space:pre;overflow-x:auto;line-height:normal;font-family:Menlo,'DejaVu Sans Mono',consolas,'Courier New',monospace\">Iteration         A              B                  iters      optimality        res       \n",
       "\n",
       "</pre>\n"
      ],
      "text/plain": [
       "<rich.jupyter.JupyterRenderable at 0x7f50ac3cf9a0>"
      ]
     },
     "metadata": {},
     "output_type": "display_data"
    },
    {
     "data": {
      "text/html": [
       "<pre style=\"white-space:pre;overflow-x:auto;line-height:normal;font-family:Menlo,'DejaVu Sans Mono',consolas,'Courier New',monospace\">___________________________________________________________________________________________ \n",
       "\n",
       "</pre>\n"
      ],
      "text/plain": [
       "<rich.jupyter.JupyterRenderable at 0x7f50ac3cf8e0>"
      ]
     },
     "metadata": {},
     "output_type": "display_data"
    },
    {
     "data": {
      "text/html": [
       "<pre style=\"white-space:pre;overflow-x:auto;line-height:normal;font-family:Menlo,'DejaVu Sans Mono',consolas,'Courier New',monospace\">    <span style=\"color: #000080; font-weight: bold\">1</span>            <span style=\"color: #000080; font-weight: bold\">-7.32470</span>        <span style=\"color: #000080; font-weight: bold\">-7.32470</span>            <span style=\"color: #000080; font-weight: bold\">10</span>       +<span style=\"color: #000080; font-weight: bold\">3.376e-15</span>      +<span style=\"color: #000080; font-weight: bold\">1.000e+00</span>\n",
       "</pre>\n"
      ],
      "text/plain": [
       "<rich.jupyter.JupyterRenderable at 0x7f50b11f10a0>"
      ]
     },
     "metadata": {},
     "output_type": "display_data"
    },
    {
     "data": {
      "text/html": [
       "<pre style=\"white-space:pre;overflow-x:auto;line-height:normal;font-family:Menlo,'DejaVu Sans Mono',consolas,'Courier New',monospace\">    <span style=\"color: #000080; font-weight: bold\">2</span>            <span style=\"color: #000080; font-weight: bold\">-7.32842</span>        <span style=\"color: #000080; font-weight: bold\">-7.32842</span>            <span style=\"color: #000080; font-weight: bold\">10</span>       +<span style=\"color: #000080; font-weight: bold\">3.851e-11</span>      +<span style=\"color: #000080; font-weight: bold\">4.218e-02</span>\n",
       "</pre>\n"
      ],
      "text/plain": [
       "<rich.jupyter.JupyterRenderable at 0x7f50ac2e1af0>"
      ]
     },
     "metadata": {},
     "output_type": "display_data"
    },
    {
     "data": {
      "text/html": [
       "<pre style=\"white-space:pre;overflow-x:auto;line-height:normal;font-family:Menlo,'DejaVu Sans Mono',consolas,'Courier New',monospace\">    <span style=\"color: #000080; font-weight: bold\">3</span>            <span style=\"color: #000080; font-weight: bold\">-7.34068</span>        <span style=\"color: #000080; font-weight: bold\">-7.34068</span>             <span style=\"color: #000080; font-weight: bold\">8</span>       +<span style=\"color: #000080; font-weight: bold\">1.507e-11</span>      +<span style=\"color: #000080; font-weight: bold\">2.717e-02</span>\n",
       "</pre>\n"
      ],
      "text/plain": [
       "<rich.jupyter.JupyterRenderable at 0x7f50b0ec55b0>"
      ]
     },
     "metadata": {},
     "output_type": "display_data"
    },
    {
     "data": {
      "text/html": [
       "<pre style=\"white-space:pre;overflow-x:auto;line-height:normal;font-family:Menlo,'DejaVu Sans Mono',consolas,'Courier New',monospace\">    <span style=\"color: #000080; font-weight: bold\">4</span>            <span style=\"color: #000080; font-weight: bold\">-7.34149</span>        <span style=\"color: #000080; font-weight: bold\">-7.34149</span>             <span style=\"color: #000080; font-weight: bold\">9</span>       +<span style=\"color: #000080; font-weight: bold\">3.229e-15</span>      +<span style=\"color: #000080; font-weight: bold\">1.976e-02</span>\n",
       "</pre>\n"
      ],
      "text/plain": [
       "<rich.jupyter.JupyterRenderable at 0x7f50b11f10a0>"
      ]
     },
     "metadata": {},
     "output_type": "display_data"
    },
    {
     "data": {
      "text/html": [
       "<pre style=\"white-space:pre;overflow-x:auto;line-height:normal;font-family:Menlo,'DejaVu Sans Mono',consolas,'Courier New',monospace\">    <span style=\"color: #000080; font-weight: bold\">5</span>            <span style=\"color: #000080; font-weight: bold\">-7.33734</span>        <span style=\"color: #000080; font-weight: bold\">-7.33734</span>             <span style=\"color: #000080; font-weight: bold\">7</span>       +<span style=\"color: #000080; font-weight: bold\">5.593e-15</span>      +<span style=\"color: #000080; font-weight: bold\">8.019e-03</span>\n",
       "</pre>\n"
      ],
      "text/plain": [
       "<rich.jupyter.JupyterRenderable at 0x7f50b11f10a0>"
      ]
     },
     "metadata": {},
     "output_type": "display_data"
    },
    {
     "data": {
      "text/html": [
       "<pre style=\"white-space:pre;overflow-x:auto;line-height:normal;font-family:Menlo,'DejaVu Sans Mono',consolas,'Courier New',monospace\">    <span style=\"color: #000080; font-weight: bold\">6</span>            <span style=\"color: #000080; font-weight: bold\">-7.33808</span>        <span style=\"color: #000080; font-weight: bold\">-7.33808</span>             <span style=\"color: #000080; font-weight: bold\">6</span>       +<span style=\"color: #000080; font-weight: bold\">1.715e-11</span>      +<span style=\"color: #000080; font-weight: bold\">6.700e-03</span>\n",
       "</pre>\n"
      ],
      "text/plain": [
       "<rich.jupyter.JupyterRenderable at 0x7f50b0ed0a60>"
      ]
     },
     "metadata": {},
     "output_type": "display_data"
    },
    {
     "data": {
      "text/html": [
       "<pre style=\"white-space:pre;overflow-x:auto;line-height:normal;font-family:Menlo,'DejaVu Sans Mono',consolas,'Courier New',monospace\">    <span style=\"color: #000080; font-weight: bold\">7</span>            <span style=\"color: #000080; font-weight: bold\">-7.33698</span>        <span style=\"color: #000080; font-weight: bold\">-7.33698</span>             <span style=\"color: #000080; font-weight: bold\">6</span>       +<span style=\"color: #000080; font-weight: bold\">3.261e-12</span>      +<span style=\"color: #000080; font-weight: bold\">3.872e-03</span>\n",
       "</pre>\n"
      ],
      "text/plain": [
       "<rich.jupyter.JupyterRenderable at 0x7f50b0ec55b0>"
      ]
     },
     "metadata": {},
     "output_type": "display_data"
    },
    {
     "data": {
      "text/html": [
       "<pre style=\"white-space:pre;overflow-x:auto;line-height:normal;font-family:Menlo,'DejaVu Sans Mono',consolas,'Courier New',monospace\">    <span style=\"color: #000080; font-weight: bold\">8</span>            <span style=\"color: #000080; font-weight: bold\">-7.33840</span>        <span style=\"color: #000080; font-weight: bold\">-7.33840</span>             <span style=\"color: #000080; font-weight: bold\">6</span>       +<span style=\"color: #000080; font-weight: bold\">2.865e-14</span>      +<span style=\"color: #000080; font-weight: bold\">3.812e-03</span>\n",
       "</pre>\n"
      ],
      "text/plain": [
       "<rich.jupyter.JupyterRenderable at 0x7f50b45e5b50>"
      ]
     },
     "metadata": {},
     "output_type": "display_data"
    },
    {
     "data": {
      "text/html": [
       "<pre style=\"white-space:pre;overflow-x:auto;line-height:normal;font-family:Menlo,'DejaVu Sans Mono',consolas,'Courier New',monospace\">    <span style=\"color: #000080; font-weight: bold\">9</span>            <span style=\"color: #000080; font-weight: bold\">-7.33823</span>        <span style=\"color: #000080; font-weight: bold\">-7.33823</span>             <span style=\"color: #000080; font-weight: bold\">5</span>       +<span style=\"color: #000080; font-weight: bold\">5.210e-15</span>      +<span style=\"color: #000080; font-weight: bold\">1.911e-03</span>\n",
       "</pre>\n"
      ],
      "text/plain": [
       "<rich.jupyter.JupyterRenderable at 0x7f50b45e5b50>"
      ]
     },
     "metadata": {},
     "output_type": "display_data"
    },
    {
     "data": {
      "text/html": [
       "<pre style=\"white-space:pre;overflow-x:auto;line-height:normal;font-family:Menlo,'DejaVu Sans Mono',consolas,'Courier New',monospace\">   <span style=\"color: #000080; font-weight: bold\">10</span>            <span style=\"color: #000080; font-weight: bold\">-7.33777</span>        <span style=\"color: #000080; font-weight: bold\">-7.33777</span>             <span style=\"color: #000080; font-weight: bold\">5</span>       +<span style=\"color: #000080; font-weight: bold\">6.518e-15</span>      +<span style=\"color: #000080; font-weight: bold\">1.703e-03</span>\n",
       "</pre>\n"
      ],
      "text/plain": [
       "<rich.jupyter.JupyterRenderable at 0x7f50b1093ca0>"
      ]
     },
     "metadata": {},
     "output_type": "display_data"
    },
    {
     "data": {
      "text/html": [
       "<pre style=\"white-space:pre;overflow-x:auto;line-height:normal;font-family:Menlo,'DejaVu Sans Mono',consolas,'Courier New',monospace\">   <span style=\"color: #000080; font-weight: bold\">11</span>            <span style=\"color: #000080; font-weight: bold\">-7.33792</span>        <span style=\"color: #000080; font-weight: bold\">-7.33792</span>             <span style=\"color: #000080; font-weight: bold\">5</span>       +<span style=\"color: #000080; font-weight: bold\">8.261e-15</span>      +<span style=\"color: #000080; font-weight: bold\">1.042e-03</span>\n",
       "</pre>\n"
      ],
      "text/plain": [
       "<rich.jupyter.JupyterRenderable at 0x7f50ac3cfbb0>"
      ]
     },
     "metadata": {},
     "output_type": "display_data"
    },
    {
     "data": {
      "text/html": [
       "<pre style=\"white-space:pre;overflow-x:auto;line-height:normal;font-family:Menlo,'DejaVu Sans Mono',consolas,'Courier New',monospace\">   <span style=\"color: #000080; font-weight: bold\">12</span>            <span style=\"color: #000080; font-weight: bold\">-7.33817</span>        <span style=\"color: #000080; font-weight: bold\">-7.33817</span>             <span style=\"color: #000080; font-weight: bold\">5</span>       +<span style=\"color: #000080; font-weight: bold\">5.592e-15</span>      +<span style=\"color: #000080; font-weight: bold\">3.125e-04</span>\n",
       "</pre>\n"
      ],
      "text/plain": [
       "<rich.jupyter.JupyterRenderable at 0x7f50ac2e1af0>"
      ]
     },
     "metadata": {},
     "output_type": "display_data"
    },
    {
     "data": {
      "text/html": [
       "<pre style=\"white-space:pre;overflow-x:auto;line-height:normal;font-family:Menlo,'DejaVu Sans Mono',consolas,'Courier New',monospace\">   <span style=\"color: #000080; font-weight: bold\">13</span>            <span style=\"color: #000080; font-weight: bold\">-7.33813</span>        <span style=\"color: #000080; font-weight: bold\">-7.33813</span>             <span style=\"color: #000080; font-weight: bold\">4</span>       +<span style=\"color: #000080; font-weight: bold\">5.794e-13</span>      +<span style=\"color: #000080; font-weight: bold\">5.363e-04</span>\n",
       "</pre>\n"
      ],
      "text/plain": [
       "<rich.jupyter.JupyterRenderable at 0x7f50b39c4910>"
      ]
     },
     "metadata": {},
     "output_type": "display_data"
    },
    {
     "data": {
      "text/html": [
       "<pre style=\"white-space:pre;overflow-x:auto;line-height:normal;font-family:Menlo,'DejaVu Sans Mono',consolas,'Courier New',monospace\">   <span style=\"color: #000080; font-weight: bold\">14</span>            <span style=\"color: #000080; font-weight: bold\">-7.33796</span>        <span style=\"color: #000080; font-weight: bold\">-7.33796</span>             <span style=\"color: #000080; font-weight: bold\">4</span>       +<span style=\"color: #000080; font-weight: bold\">7.039e-12</span>      +<span style=\"color: #000080; font-weight: bold\">1.650e-04</span>\n",
       "</pre>\n"
      ],
      "text/plain": [
       "<rich.jupyter.JupyterRenderable at 0x7f50b39d0850>"
      ]
     },
     "metadata": {},
     "output_type": "display_data"
    },
    {
     "data": {
      "text/html": [
       "<pre style=\"white-space:pre;overflow-x:auto;line-height:normal;font-family:Menlo,'DejaVu Sans Mono',consolas,'Courier New',monospace\">   <span style=\"color: #000080; font-weight: bold\">15</span>            <span style=\"color: #000080; font-weight: bold\">-7.33791</span>        <span style=\"color: #000080; font-weight: bold\">-7.33791</span>             <span style=\"color: #000080; font-weight: bold\">4</span>       +<span style=\"color: #000080; font-weight: bold\">6.828e-13</span>      +<span style=\"color: #000080; font-weight: bold\">1.759e-04</span>\n",
       "</pre>\n"
      ],
      "text/plain": [
       "<rich.jupyter.JupyterRenderable at 0x7f50b387ebb0>"
      ]
     },
     "metadata": {},
     "output_type": "display_data"
    },
    {
     "data": {
      "text/html": [
       "<pre style=\"white-space:pre;overflow-x:auto;line-height:normal;font-family:Menlo,'DejaVu Sans Mono',consolas,'Courier New',monospace\">   <span style=\"color: #000080; font-weight: bold\">16</span>            <span style=\"color: #000080; font-weight: bold\">-7.33797</span>        <span style=\"color: #000080; font-weight: bold\">-7.33797</span>             <span style=\"color: #000080; font-weight: bold\">4</span>       +<span style=\"color: #000080; font-weight: bold\">1.365e-13</span>      +<span style=\"color: #000080; font-weight: bold\">5.839e-05</span>\n",
       "</pre>\n"
      ],
      "text/plain": [
       "<rich.jupyter.JupyterRenderable at 0x7f50b3872370>"
      ]
     },
     "metadata": {},
     "output_type": "display_data"
    },
    {
     "data": {
      "text/html": [
       "<pre style=\"white-space:pre;overflow-x:auto;line-height:normal;font-family:Menlo,'DejaVu Sans Mono',consolas,'Courier New',monospace\">   <span style=\"color: #000080; font-weight: bold\">17</span>            <span style=\"color: #000080; font-weight: bold\">-7.33802</span>        <span style=\"color: #000080; font-weight: bold\">-7.33802</span>             <span style=\"color: #000080; font-weight: bold\">3</span>       +<span style=\"color: #000080; font-weight: bold\">7.584e-15</span>      +<span style=\"color: #000080; font-weight: bold\">5.721e-05</span>\n",
       "</pre>\n"
      ],
      "text/plain": [
       "<rich.jupyter.JupyterRenderable at 0x7f50b39dd190>"
      ]
     },
     "metadata": {},
     "output_type": "display_data"
    },
    {
     "data": {
      "text/html": [
       "<pre style=\"white-space:pre;overflow-x:auto;line-height:normal;font-family:Menlo,'DejaVu Sans Mono',consolas,'Courier New',monospace\">   <span style=\"color: #000080; font-weight: bold\">18</span>            <span style=\"color: #000080; font-weight: bold\">-7.33802</span>        <span style=\"color: #000080; font-weight: bold\">-7.33802</span>             <span style=\"color: #000080; font-weight: bold\">3</span>       +<span style=\"color: #000080; font-weight: bold\">6.677e-15</span>      +<span style=\"color: #000080; font-weight: bold\">3.896e-05</span>\n",
       "</pre>\n"
      ],
      "text/plain": [
       "<rich.jupyter.JupyterRenderable at 0x7f50b384e2b0>"
      ]
     },
     "metadata": {},
     "output_type": "display_data"
    },
    {
     "data": {
      "text/html": [
       "<pre style=\"white-space:pre;overflow-x:auto;line-height:normal;font-family:Menlo,'DejaVu Sans Mono',consolas,'Courier New',monospace\">   <span style=\"color: #000080; font-weight: bold\">19</span>            <span style=\"color: #000080; font-weight: bold\">-7.33800</span>        <span style=\"color: #000080; font-weight: bold\">-7.33800</span>             <span style=\"color: #000080; font-weight: bold\">3</span>       +<span style=\"color: #000080; font-weight: bold\">7.172e-15</span>      +<span style=\"color: #000080; font-weight: bold\">1.913e-05</span>\n",
       "</pre>\n"
      ],
      "text/plain": [
       "<rich.jupyter.JupyterRenderable at 0x7f50b3818d30>"
      ]
     },
     "metadata": {},
     "output_type": "display_data"
    },
    {
     "data": {
      "text/html": [
       "<pre style=\"white-space:pre;overflow-x:auto;line-height:normal;font-family:Menlo,'DejaVu Sans Mono',consolas,'Courier New',monospace\">   <span style=\"color: #000080; font-weight: bold\">20</span>            <span style=\"color: #000080; font-weight: bold\">-7.33799</span>        <span style=\"color: #000080; font-weight: bold\">-7.33799</span>             <span style=\"color: #000080; font-weight: bold\">3</span>       +<span style=\"color: #000080; font-weight: bold\">5.007e-15</span>      +<span style=\"color: #000080; font-weight: bold\">1.229e-05</span>\n",
       "</pre>\n"
      ],
      "text/plain": [
       "<rich.jupyter.JupyterRenderable at 0x7f50b39dd190>"
      ]
     },
     "metadata": {},
     "output_type": "display_data"
    },
    {
     "data": {
      "text/html": [
       "<pre style=\"white-space:pre;overflow-x:auto;line-height:normal;font-family:Menlo,'DejaVu Sans Mono',consolas,'Courier New',monospace\">   <span style=\"color: #000080; font-weight: bold\">21</span>            <span style=\"color: #000080; font-weight: bold\">-7.33799</span>        <span style=\"color: #000080; font-weight: bold\">-7.33799</span>             <span style=\"color: #000080; font-weight: bold\">3</span>       +<span style=\"color: #000080; font-weight: bold\">4.698e-15</span>      +<span style=\"color: #000080; font-weight: bold\">8.037e-06</span>\n",
       "</pre>\n"
      ],
      "text/plain": [
       "<rich.jupyter.JupyterRenderable at 0x7f50b39d0850>"
      ]
     },
     "metadata": {},
     "output_type": "display_data"
    },
    {
     "data": {
      "text/html": [
       "<pre style=\"white-space:pre;overflow-x:auto;line-height:normal;font-family:Menlo,'DejaVu Sans Mono',consolas,'Courier New',monospace\">   <span style=\"color: #000080; font-weight: bold\">22</span>            <span style=\"color: #000080; font-weight: bold\">-7.33800</span>        <span style=\"color: #000080; font-weight: bold\">-7.33800</span>             <span style=\"color: #000080; font-weight: bold\">3</span>       +<span style=\"color: #000080; font-weight: bold\">7.199e-15</span>      +<span style=\"color: #000080; font-weight: bold\">8.007e-06</span>\n",
       "</pre>\n"
      ],
      "text/plain": [
       "<rich.jupyter.JupyterRenderable at 0x7f50b384e2b0>"
      ]
     },
     "metadata": {},
     "output_type": "display_data"
    },
    {
     "data": {
      "text/html": [
       "<pre style=\"white-space:pre;overflow-x:auto;line-height:normal;font-family:Menlo,'DejaVu Sans Mono',consolas,'Courier New',monospace\">   <span style=\"color: #000080; font-weight: bold\">23</span>            <span style=\"color: #000080; font-weight: bold\">-7.33800</span>        <span style=\"color: #000080; font-weight: bold\">-7.33800</span>             <span style=\"color: #000080; font-weight: bold\">3</span>       +<span style=\"color: #000080; font-weight: bold\">5.088e-15</span>      +<span style=\"color: #000080; font-weight: bold\">2.399e-06</span>\n",
       "</pre>\n"
      ],
      "text/plain": [
       "<rich.jupyter.JupyterRenderable at 0x7f50b385aaf0>"
      ]
     },
     "metadata": {},
     "output_type": "display_data"
    },
    {
     "data": {
      "text/html": [
       "<pre style=\"white-space:pre;overflow-x:auto;line-height:normal;font-family:Menlo,'DejaVu Sans Mono',consolas,'Courier New',monospace\">   <span style=\"color: #000080; font-weight: bold\">24</span>            <span style=\"color: #000080; font-weight: bold\">-7.33800</span>        <span style=\"color: #000080; font-weight: bold\">-7.33800</span>             <span style=\"color: #000080; font-weight: bold\">2</span>       +<span style=\"color: #000080; font-weight: bold\">2.935e-11</span>      +<span style=\"color: #000080; font-weight: bold\">2.821e-06</span>\n",
       "</pre>\n"
      ],
      "text/plain": [
       "<rich.jupyter.JupyterRenderable at 0x7f50b3b3c9d0>"
      ]
     },
     "metadata": {},
     "output_type": "display_data"
    },
    {
     "data": {
      "text/html": [
       "<pre style=\"white-space:pre;overflow-x:auto;line-height:normal;font-family:Menlo,'DejaVu Sans Mono',consolas,'Courier New',monospace\">   <span style=\"color: #000080; font-weight: bold\">25</span>            <span style=\"color: #000080; font-weight: bold\">-7.33800</span>        <span style=\"color: #000080; font-weight: bold\">-7.33800</span>             <span style=\"color: #000080; font-weight: bold\">2</span>       +<span style=\"color: #000080; font-weight: bold\">1.192e-11</span>      +<span style=\"color: #000080; font-weight: bold\">1.398e-06</span>\n",
       "</pre>\n"
      ],
      "text/plain": [
       "<rich.jupyter.JupyterRenderable at 0x7f50b3866430>"
      ]
     },
     "metadata": {},
     "output_type": "display_data"
    },
    {
     "data": {
      "text/html": [
       "<pre style=\"white-space:pre;overflow-x:auto;line-height:normal;font-family:Menlo,'DejaVu Sans Mono',consolas,'Courier New',monospace\">   <span style=\"color: #000080; font-weight: bold\">26</span>            <span style=\"color: #000080; font-weight: bold\">-7.33800</span>        <span style=\"color: #000080; font-weight: bold\">-7.33800</span>             <span style=\"color: #000080; font-weight: bold\">2</span>       +<span style=\"color: #000080; font-weight: bold\">6.893e-12</span>      +<span style=\"color: #000080; font-weight: bold\">1.217e-06</span>\n",
       "</pre>\n"
      ],
      "text/plain": [
       "<rich.jupyter.JupyterRenderable at 0x7f50b3ad61c0>"
      ]
     },
     "metadata": {},
     "output_type": "display_data"
    },
    {
     "data": {
      "text/html": [
       "<pre style=\"white-space:pre;overflow-x:auto;line-height:normal;font-family:Menlo,'DejaVu Sans Mono',consolas,'Courier New',monospace\">   <span style=\"color: #000080; font-weight: bold\">27</span>            <span style=\"color: #000080; font-weight: bold\">-7.33800</span>        <span style=\"color: #000080; font-weight: bold\">-7.33800</span>             <span style=\"color: #000080; font-weight: bold\">2</span>       +<span style=\"color: #000080; font-weight: bold\">4.279e-12</span>      +<span style=\"color: #000080; font-weight: bold\">5.672e-07</span>\n",
       "</pre>\n"
      ],
      "text/plain": [
       "<rich.jupyter.JupyterRenderable at 0x7f50b380c4f0>"
      ]
     },
     "metadata": {},
     "output_type": "display_data"
    },
    {
     "data": {
      "text/html": [
       "<pre style=\"white-space:pre;overflow-x:auto;line-height:normal;font-family:Menlo,'DejaVu Sans Mono',consolas,'Courier New',monospace\">   <span style=\"color: #000080; font-weight: bold\">28</span>            <span style=\"color: #000080; font-weight: bold\">-7.33800</span>        <span style=\"color: #000080; font-weight: bold\">-7.33800</span>             <span style=\"color: #000080; font-weight: bold\">2</span>       +<span style=\"color: #000080; font-weight: bold\">1.472e-12</span>      +<span style=\"color: #000080; font-weight: bold\">2.429e-07</span>\n",
       "</pre>\n"
      ],
      "text/plain": [
       "<rich.jupyter.JupyterRenderable at 0x7f50b3ad61c0>"
      ]
     },
     "metadata": {},
     "output_type": "display_data"
    },
    {
     "data": {
      "text/html": [
       "<pre style=\"white-space:pre;overflow-x:auto;line-height:normal;font-family:Menlo,'DejaVu Sans Mono',consolas,'Courier New',monospace\">   <span style=\"color: #000080; font-weight: bold\">29</span>            <span style=\"color: #000080; font-weight: bold\">-7.33800</span>        <span style=\"color: #000080; font-weight: bold\">-7.33800</span>             <span style=\"color: #000080; font-weight: bold\">2</span>       +<span style=\"color: #000080; font-weight: bold\">9.311e-14</span>      +<span style=\"color: #000080; font-weight: bold\">2.870e-07</span>\n",
       "</pre>\n"
      ],
      "text/plain": [
       "<rich.jupyter.JupyterRenderable at 0x7f50b3b3c9d0>"
      ]
     },
     "metadata": {},
     "output_type": "display_data"
    },
    {
     "data": {
      "text/html": [
       "<pre style=\"white-space:pre;overflow-x:auto;line-height:normal;font-family:Menlo,'DejaVu Sans Mono',consolas,'Courier New',monospace\">   <span style=\"color: #000080; font-weight: bold\">30</span>            <span style=\"color: #000080; font-weight: bold\">-7.33800</span>        <span style=\"color: #000080; font-weight: bold\">-7.33800</span>             <span style=\"color: #000080; font-weight: bold\">2</span>       +<span style=\"color: #000080; font-weight: bold\">1.742e-13</span>      +<span style=\"color: #000080; font-weight: bold\">1.760e-07</span>\n",
       "</pre>\n"
      ],
      "text/plain": [
       "<rich.jupyter.JupyterRenderable at 0x7f50b3872c70>"
      ]
     },
     "metadata": {},
     "output_type": "display_data"
    },
    {
     "data": {
      "text/html": [
       "<pre style=\"white-space:pre;overflow-x:auto;line-height:normal;font-family:Menlo,'DejaVu Sans Mono',consolas,'Courier New',monospace\">   <span style=\"color: #000080; font-weight: bold\">31</span>            <span style=\"color: #000080; font-weight: bold\">-7.33800</span>        <span style=\"color: #000080; font-weight: bold\">-7.33800</span>             <span style=\"color: #000080; font-weight: bold\">2</span>       +<span style=\"color: #000080; font-weight: bold\">1.880e-13</span>      +<span style=\"color: #000080; font-weight: bold\">9.926e-08</span>\n",
       "</pre>\n"
      ],
      "text/plain": [
       "<rich.jupyter.JupyterRenderable at 0x7f50b3841370>"
      ]
     },
     "metadata": {},
     "output_type": "display_data"
    },
    {
     "data": {
      "text/html": [
       "<pre style=\"white-space:pre;overflow-x:auto;line-height:normal;font-family:Menlo,'DejaVu Sans Mono',consolas,'Courier New',monospace\">   <span style=\"color: #000080; font-weight: bold\">32</span>            <span style=\"color: #000080; font-weight: bold\">-7.33800</span>        <span style=\"color: #000080; font-weight: bold\">-7.33800</span>             <span style=\"color: #000080; font-weight: bold\">2</span>       +<span style=\"color: #000080; font-weight: bold\">4.952e-14</span>      +<span style=\"color: #000080; font-weight: bold\">3.958e-08</span>\n",
       "</pre>\n"
      ],
      "text/plain": [
       "<rich.jupyter.JupyterRenderable at 0x7f50b3b3c9d0>"
      ]
     },
     "metadata": {},
     "output_type": "display_data"
    },
    {
     "data": {
      "text/html": [
       "<pre style=\"white-space:pre;overflow-x:auto;line-height:normal;font-family:Menlo,'DejaVu Sans Mono',consolas,'Courier New',monospace\">   <span style=\"color: #000080; font-weight: bold\">33</span>            <span style=\"color: #000080; font-weight: bold\">-7.33800</span>        <span style=\"color: #000080; font-weight: bold\">-7.33800</span>             <span style=\"color: #000080; font-weight: bold\">2</span>       +<span style=\"color: #000080; font-weight: bold\">7.661e-15</span>      +<span style=\"color: #000080; font-weight: bold\">5.685e-08</span>\n",
       "</pre>\n"
      ],
      "text/plain": [
       "<rich.jupyter.JupyterRenderable at 0x7f50ac2e1af0>"
      ]
     },
     "metadata": {},
     "output_type": "display_data"
    },
    {
     "data": {
      "text/html": [
       "<pre style=\"white-space:pre;overflow-x:auto;line-height:normal;font-family:Menlo,'DejaVu Sans Mono',consolas,'Courier New',monospace\">   <span style=\"color: #000080; font-weight: bold\">34</span>            <span style=\"color: #000080; font-weight: bold\">-7.33800</span>        <span style=\"color: #000080; font-weight: bold\">-7.33800</span>             <span style=\"color: #000080; font-weight: bold\">2</span>       +<span style=\"color: #000080; font-weight: bold\">1.218e-14</span>      +<span style=\"color: #000080; font-weight: bold\">2.959e-08</span>\n",
       "</pre>\n"
      ],
      "text/plain": [
       "<rich.jupyter.JupyterRenderable at 0x7f50b3866430>"
      ]
     },
     "metadata": {},
     "output_type": "display_data"
    },
    {
     "data": {
      "text/html": [
       "<pre style=\"white-space:pre;overflow-x:auto;line-height:normal;font-family:Menlo,'DejaVu Sans Mono',consolas,'Courier New',monospace\">   <span style=\"color: #000080; font-weight: bold\">35</span>            <span style=\"color: #000080; font-weight: bold\">-7.33800</span>        <span style=\"color: #000080; font-weight: bold\">-7.33800</span>             <span style=\"color: #000080; font-weight: bold\">2</span>       +<span style=\"color: #000080; font-weight: bold\">6.795e-15</span>      +<span style=\"color: #000080; font-weight: bold\">1.698e-08</span>\n",
       "</pre>\n"
      ],
      "text/plain": [
       "<rich.jupyter.JupyterRenderable at 0x7f50b3ad61c0>"
      ]
     },
     "metadata": {},
     "output_type": "display_data"
    },
    {
     "data": {
      "text/html": [
       "<pre style=\"white-space:pre;overflow-x:auto;line-height:normal;font-family:Menlo,'DejaVu Sans Mono',consolas,'Courier New',monospace\">   <span style=\"color: #000080; font-weight: bold\">36</span>            <span style=\"color: #000080; font-weight: bold\">-7.33800</span>        <span style=\"color: #000080; font-weight: bold\">-7.33800</span>             <span style=\"color: #000080; font-weight: bold\">2</span>       +<span style=\"color: #000080; font-weight: bold\">7.072e-15</span>      +<span style=\"color: #000080; font-weight: bold\">9.234e-09</span>\n",
       "</pre>\n"
      ],
      "text/plain": [
       "<rich.jupyter.JupyterRenderable at 0x7f50b384e2b0>"
      ]
     },
     "metadata": {},
     "output_type": "display_data"
    },
    {
     "data": {
      "text/html": [
       "<pre style=\"white-space:pre;overflow-x:auto;line-height:normal;font-family:Menlo,'DejaVu Sans Mono',consolas,'Courier New',monospace\">   <span style=\"color: #000080; font-weight: bold\">37</span>            <span style=\"color: #000080; font-weight: bold\">-7.33800</span>        <span style=\"color: #000080; font-weight: bold\">-7.33800</span>             <span style=\"color: #000080; font-weight: bold\">2</span>       +<span style=\"color: #000080; font-weight: bold\">6.649e-15</span>      +<span style=\"color: #000080; font-weight: bold\">8.281e-09</span>\n",
       "</pre>\n"
      ],
      "text/plain": [
       "<rich.jupyter.JupyterRenderable at 0x7f50b3b3c9d0>"
      ]
     },
     "metadata": {},
     "output_type": "display_data"
    },
    {
     "data": {
      "text/html": [
       "<pre style=\"white-space:pre;overflow-x:auto;line-height:normal;font-family:Menlo,'DejaVu Sans Mono',consolas,'Courier New',monospace\">   <span style=\"color: #000080; font-weight: bold\">38</span>            <span style=\"color: #000080; font-weight: bold\">-7.33800</span>        <span style=\"color: #000080; font-weight: bold\">-7.33800</span>             <span style=\"color: #000080; font-weight: bold\">2</span>       +<span style=\"color: #000080; font-weight: bold\">5.762e-15</span>      +<span style=\"color: #000080; font-weight: bold\">5.904e-09</span>\n",
       "</pre>\n"
      ],
      "text/plain": [
       "<rich.jupyter.JupyterRenderable at 0x7f50b39dd190>"
      ]
     },
     "metadata": {},
     "output_type": "display_data"
    },
    {
     "data": {
      "text/html": [
       "<pre style=\"white-space:pre;overflow-x:auto;line-height:normal;font-family:Menlo,'DejaVu Sans Mono',consolas,'Courier New',monospace\">   <span style=\"color: #000080; font-weight: bold\">39</span>            <span style=\"color: #000080; font-weight: bold\">-7.33800</span>        <span style=\"color: #000080; font-weight: bold\">-7.33800</span>             <span style=\"color: #000080; font-weight: bold\">2</span>       +<span style=\"color: #000080; font-weight: bold\">4.860e-15</span>      +<span style=\"color: #000080; font-weight: bold\">2.398e-09</span>\n",
       "</pre>\n"
      ],
      "text/plain": [
       "<rich.jupyter.JupyterRenderable at 0x7f50b380c4f0>"
      ]
     },
     "metadata": {},
     "output_type": "display_data"
    },
    {
     "data": {
      "text/html": [
       "<pre style=\"white-space:pre;overflow-x:auto;line-height:normal;font-family:Menlo,'DejaVu Sans Mono',consolas,'Courier New',monospace\">   <span style=\"color: #000080; font-weight: bold\">40</span>            <span style=\"color: #000080; font-weight: bold\">-7.33800</span>        <span style=\"color: #000080; font-weight: bold\">-7.33800</span>             <span style=\"color: #000080; font-weight: bold\">2</span>       +<span style=\"color: #000080; font-weight: bold\">6.234e-15</span>      +<span style=\"color: #000080; font-weight: bold\">1.509e-09</span>\n",
       "</pre>\n"
      ],
      "text/plain": [
       "<rich.jupyter.JupyterRenderable at 0x7f50b3a3beb0>"
      ]
     },
     "metadata": {},
     "output_type": "display_data"
    },
    {
     "data": {
      "text/html": [
       "<pre style=\"white-space:pre;overflow-x:auto;line-height:normal;font-family:Menlo,'DejaVu Sans Mono',consolas,'Courier New',monospace\">   <span style=\"color: #000080; font-weight: bold\">41</span>            <span style=\"color: #000080; font-weight: bold\">-7.33800</span>        <span style=\"color: #000080; font-weight: bold\">-7.33800</span>             <span style=\"color: #000080; font-weight: bold\">1</span>       +<span style=\"color: #000080; font-weight: bold\">9.282e-11</span>      +<span style=\"color: #000080; font-weight: bold\">2.159e-09</span>\n",
       "</pre>\n"
      ],
      "text/plain": [
       "<rich.jupyter.JupyterRenderable at 0x7f50b385aaf0>"
      ]
     },
     "metadata": {},
     "output_type": "display_data"
    },
    {
     "data": {
      "text/html": [
       "<pre style=\"white-space:pre;overflow-x:auto;line-height:normal;font-family:Menlo,'DejaVu Sans Mono',consolas,'Courier New',monospace\">   <span style=\"color: #000080; font-weight: bold\">42</span>            <span style=\"color: #000080; font-weight: bold\">-7.33800</span>        <span style=\"color: #000080; font-weight: bold\">-7.33800</span>             <span style=\"color: #000080; font-weight: bold\">2</span>       +<span style=\"color: #000080; font-weight: bold\">4.215e-15</span>      +<span style=\"color: #000080; font-weight: bold\">1.253e-09</span>\n",
       "</pre>\n"
      ],
      "text/plain": [
       "<rich.jupyter.JupyterRenderable at 0x7f50ac2e1af0>"
      ]
     },
     "metadata": {},
     "output_type": "display_data"
    },
    {
     "data": {
      "text/html": [
       "<pre style=\"white-space:pre;overflow-x:auto;line-height:normal;font-family:Menlo,'DejaVu Sans Mono',consolas,'Courier New',monospace\">   <span style=\"color: #000080; font-weight: bold\">43</span>            <span style=\"color: #000080; font-weight: bold\">-7.33800</span>        <span style=\"color: #000080; font-weight: bold\">-7.33800</span>             <span style=\"color: #000080; font-weight: bold\">2</span>       +<span style=\"color: #000080; font-weight: bold\">4.464e-15</span>      +<span style=\"color: #000080; font-weight: bold\">6.601e-10</span>\n",
       "</pre>\n"
      ],
      "text/plain": [
       "<rich.jupyter.JupyterRenderable at 0x7f50b3841370>"
      ]
     },
     "metadata": {},
     "output_type": "display_data"
    },
    {
     "data": {
      "text/html": [
       "<pre style=\"white-space:pre;overflow-x:auto;line-height:normal;font-family:Menlo,'DejaVu Sans Mono',consolas,'Courier New',monospace\">   <span style=\"color: #000080; font-weight: bold\">44</span>            <span style=\"color: #000080; font-weight: bold\">-7.33800</span>        <span style=\"color: #000080; font-weight: bold\">-7.33800</span>             <span style=\"color: #000080; font-weight: bold\">1</span>       +<span style=\"color: #000080; font-weight: bold\">4.172e-11</span>      +<span style=\"color: #000080; font-weight: bold\">9.062e-10</span>\n",
       "</pre>\n"
      ],
      "text/plain": [
       "<rich.jupyter.JupyterRenderable at 0x7f50b3a3beb0>"
      ]
     },
     "metadata": {},
     "output_type": "display_data"
    },
    {
     "data": {
      "text/html": [
       "<pre style=\"white-space:pre;overflow-x:auto;line-height:normal;font-family:Menlo,'DejaVu Sans Mono',consolas,'Courier New',monospace\">   <span style=\"color: #000080; font-weight: bold\">45</span>            <span style=\"color: #000080; font-weight: bold\">-7.33800</span>        <span style=\"color: #000080; font-weight: bold\">-7.33800</span>             <span style=\"color: #000080; font-weight: bold\">2</span>       +<span style=\"color: #000080; font-weight: bold\">7.259e-15</span>      +<span style=\"color: #000080; font-weight: bold\">5.411e-10</span>\n",
       "</pre>\n"
      ],
      "text/plain": [
       "<rich.jupyter.JupyterRenderable at 0x7f50b3ad61c0>"
      ]
     },
     "metadata": {},
     "output_type": "display_data"
    },
    {
     "data": {
      "text/html": [
       "<pre style=\"white-space:pre;overflow-x:auto;line-height:normal;font-family:Menlo,'DejaVu Sans Mono',consolas,'Courier New',monospace\">   <span style=\"color: #000080; font-weight: bold\">46</span>            <span style=\"color: #000080; font-weight: bold\">-7.33800</span>        <span style=\"color: #000080; font-weight: bold\">-7.33800</span>             <span style=\"color: #000080; font-weight: bold\">1</span>       +<span style=\"color: #000080; font-weight: bold\">4.949e-11</span>      +<span style=\"color: #000080; font-weight: bold\">5.412e-10</span>\n",
       "</pre>\n"
      ],
      "text/plain": [
       "<rich.jupyter.JupyterRenderable at 0x7f50b384e2b0>"
      ]
     },
     "metadata": {},
     "output_type": "display_data"
    },
    {
     "data": {
      "text/html": [
       "<pre style=\"white-space:pre;overflow-x:auto;line-height:normal;font-family:Menlo,'DejaVu Sans Mono',consolas,'Courier New',monospace\">   <span style=\"color: #000080; font-weight: bold\">47</span>            <span style=\"color: #000080; font-weight: bold\">-7.33800</span>        <span style=\"color: #000080; font-weight: bold\">-7.33800</span>             <span style=\"color: #000080; font-weight: bold\">1</span>       +<span style=\"color: #000080; font-weight: bold\">8.381e-11</span>      +<span style=\"color: #000080; font-weight: bold\">6.067e-10</span>\n",
       "</pre>\n"
      ],
      "text/plain": [
       "<rich.jupyter.JupyterRenderable at 0x7f50b385aaf0>"
      ]
     },
     "metadata": {},
     "output_type": "display_data"
    },
    {
     "data": {
      "text/html": [
       "<pre style=\"white-space:pre;overflow-x:auto;line-height:normal;font-family:Menlo,'DejaVu Sans Mono',consolas,'Courier New',monospace\">   <span style=\"color: #000080; font-weight: bold\">48</span>            <span style=\"color: #000080; font-weight: bold\">-7.33800</span>        <span style=\"color: #000080; font-weight: bold\">-7.33800</span>             <span style=\"color: #000080; font-weight: bold\">2</span>       +<span style=\"color: #000080; font-weight: bold\">9.001e-15</span>      +<span style=\"color: #000080; font-weight: bold\">6.154e-10</span>\n",
       "</pre>\n"
      ],
      "text/plain": [
       "<rich.jupyter.JupyterRenderable at 0x7f50b380c4f0>"
      ]
     },
     "metadata": {},
     "output_type": "display_data"
    },
    {
     "data": {
      "text/html": [
       "<pre style=\"white-space:pre;overflow-x:auto;line-height:normal;font-family:Menlo,'DejaVu Sans Mono',consolas,'Courier New',monospace\">   <span style=\"color: #000080; font-weight: bold\">49</span>            <span style=\"color: #000080; font-weight: bold\">-7.33800</span>        <span style=\"color: #000080; font-weight: bold\">-7.33800</span>             <span style=\"color: #000080; font-weight: bold\">1</span>       +<span style=\"color: #000080; font-weight: bold\">4.667e-11</span>      +<span style=\"color: #000080; font-weight: bold\">6.897e-10</span>\n",
       "</pre>\n"
      ],
      "text/plain": [
       "<rich.jupyter.JupyterRenderable at 0x7f50b39dd190>"
      ]
     },
     "metadata": {},
     "output_type": "display_data"
    },
    {
     "data": {
      "text/html": [
       "<pre style=\"white-space:pre;overflow-x:auto;line-height:normal;font-family:Menlo,'DejaVu Sans Mono',consolas,'Courier New',monospace\">   <span style=\"color: #000080; font-weight: bold\">50</span>            <span style=\"color: #000080; font-weight: bold\">-7.33800</span>        <span style=\"color: #000080; font-weight: bold\">-7.33800</span>             <span style=\"color: #000080; font-weight: bold\">2</span>       +<span style=\"color: #000080; font-weight: bold\">9.156e-15</span>      +<span style=\"color: #000080; font-weight: bold\">5.304e-10</span>\n",
       "</pre>\n"
      ],
      "text/plain": [
       "<rich.jupyter.JupyterRenderable at 0x7f50b380c4f0>"
      ]
     },
     "metadata": {},
     "output_type": "display_data"
    }
   ],
   "source": [
    "a = 5.122/2\n",
    "#Nuclear charge for fragments A and B\n",
    "Za, Zb = 3,3\n",
    "#Set polarization 1-Unpolarized, 2-Polarized\n",
    "pol = 2\n",
    "#Fragment a electrons [alpha, beta]\n",
    "Nmo_a = [[2,1]] #Number of molecular orbitals to calculate\n",
    "N_a   = [[2,1]]\n",
    "#Ensemble mix\n",
    "nu_a = 1\n",
    "#Fragment b electrons\n",
    "Nmo_b = [[2,1]]\n",
    "N_b   = [[2,1]]\n",
    "#Ensemble mix\n",
    "nu_b = 1\n",
    "\n",
    "#Molecular elctron configuration\n",
    "Nmo_m = [[3,3]]\n",
    "N_m   = [[3,3]]\n",
    "\n",
    "\n",
    "#Initialize required objects. And make calculation in isolated fragments for initial guess. \n",
    "\n",
    "part = Partition(grid, Za, Zb, pol, Nmo_a, N_a, nu_a, Nmo_b, N_b, nu_b, { \"kinetic_part_type\" : 'inversion',\n",
    "                                                                          \"ab_sym\"            : True,\n",
    "                                                                          \"ens_spin_sym\"      : True,})\n",
    "\n",
    "#Setup inverter object\n",
    "mol_solver = Pssolver(grid, Nmo_m, N_m)\n",
    "part.inverter = Inverter(grid, mol_solver, {\"invert_type\"     : \"orbitalinvert\",\n",
    "                                            \"tol_invert\"      : 1e-10,\n",
    "                                            \"max_iter_invert\" : 40,\n",
    "                                            \"disp\"            : False,\n",
    "                                            \"ab_sym\"          : True,\n",
    "                                            \"ens_spin_sym\"    : True,})\n",
    "\n",
    "part.optPartition.isolated = True\n",
    "part.scf({\"disp\"  : True,\n",
    "          \"alpha\" : [0.6],\n",
    "          \"e_tol\" : 1e-12})\n",
    "\n",
    "\n",
    "#Turn off iterative linear solver for each solver\n",
    "part.KSa.solver[0][0].optSolver.iter_lin_solver = False\n",
    "part.KSa.solver[0][1].optSolver.iter_lin_solver = False\n",
    "\n",
    "\n",
    "part.optPartition.isolated   = False\n",
    "\n",
    "part.scf({\"disp\"       : True,\n",
    "          \"alpha\"      : [0.6],\n",
    "          \"max_iter\"   : 50,\n",
    "          \"e_tol\"      : 1e-10,\n",
    "          \"continuing\" : True})\n",
    "\n",
    "#Store full densities under the presence of vp.\n",
    "Da_vp = part.nf[:,0].copy()\n",
    "Db_vp = part.nf[:,1].copy()"
   ]
  },
  {
   "cell_type": "markdown",
   "metadata": {},
   "source": [
    "---\n",
    "### Perform Isolated Li Calculation under the presence of Vp. \n",
    "You are required to use the Kohn Sham calculation used in the original isolated fragment calculation. \n",
    "Code should run as it is but for idential calculations increase to grid size to: [7,12,12]"
   ]
  },
  {
   "cell_type": "code",
   "execution_count": 49,
   "metadata": {},
   "outputs": [],
   "source": [
    "#Store vp from pdft calculation. \n",
    "vp = part.V.vp.copy()\n",
    "vp = vp[:,0] + vp[:,1] \n",
    "\n",
    "\n",
    "#Setting continue : True is imoprtant otherwise veff gets scratched. \n",
    "KS.solver[0][0].veff += vp\n",
    "KS.solver[0][0].calc_orbitals()\n",
    "KS.solver[0][0].calc_density()\n",
    "KS.solver[0][0].calc_energy()\n",
    "\n",
    "#Save density under the presence of vp\n",
    "vp_D = KS.n.copy()"
   ]
  },
  {
   "cell_type": "markdown",
   "metadata": {},
   "source": [
    "---\n",
    "### Generate Figure 9. Parititon Potential. "
   ]
  },
  {
   "cell_type": "code",
   "execution_count": 51,
   "metadata": {},
   "outputs": [
    {
     "data": {
      "application/vnd.jupyter.widget-view+json": {
       "model_id": "517b0e6883c246559f68da001e85bdd2",
       "version_major": 2,
       "version_minor": 0
      },
      "text/plain": [
       "Canvas(toolbar=Toolbar(toolitems=[('Home', 'Reset original view', 'home', 'home'), ('Back', 'Back to previous …"
      ]
     },
     "metadata": {},
     "output_type": "display_data"
    },
    {
     "data": {
      "text/plain": [
       "<matplotlib.colorbar.Colorbar at 0x7f50b11fdd60>"
      ]
     },
     "execution_count": 51,
     "metadata": {},
     "output_type": "execute_result"
    }
   ],
   "source": [
    "full, x,y = grid.plotter(part.V.vp[:,0] + part.V.vp[:,1])\n",
    "fig = plt.figure(dpi=150)\n",
    "plt.contourf(x,y,full, levels=50, cmap=\"jet\")\n",
    "plt.xlim([-5,5])\n",
    "plt.ylim([-5,5])\n",
    "plt.colorbar()\n",
    "# plt.show()"
   ]
  },
  {
   "cell_type": "markdown",
   "metadata": {},
   "source": [
    "---\n",
    "### Generate Figure 9. Difference between Fragment Density and Isolated Atomic Density. "
   ]
  },
  {
   "cell_type": "code",
   "execution_count": 57,
   "metadata": {},
   "outputs": [
    {
     "data": {
      "application/vnd.jupyter.widget-view+json": {
       "model_id": "18843b5d0e9d4e1eab930747b61419a9",
       "version_major": 2,
       "version_minor": 0
      },
      "text/plain": [
       "Canvas(toolbar=Toolbar(toolitems=[('Home', 'Reset original view', 'home', 'home'), ('Back', 'Back to previous …"
      ]
     },
     "metadata": {},
     "output_type": "display_data"
    },
    {
     "data": {
      "text/plain": [
       "<matplotlib.colorbar.Colorbar at 0x7f50a9d61730>"
      ]
     },
     "execution_count": 57,
     "metadata": {},
     "output_type": "execute_result"
    }
   ],
   "source": [
    "D_grid, x, y = grid.plotter(Isolated_D)\n",
    "D_vp_grid, _, _ = grid.plotter(Da_vp)\n",
    "\n",
    "fig = plt.figure(dpi=150)\n",
    "plt.contourf(x,y, D_grid - D_vp_grid, levels=100, cmap=\"jet\")\n",
    "plt.xlim([-5,5])\n",
    "plt.ylim([-5,5])\n",
    "plt.colorbar()\n",
    "# plt.show()"
   ]
  },
  {
   "cell_type": "markdown",
   "metadata": {},
   "source": [
    "---\n",
    "### Generate Figure 11. Components of the Partition Potential"
   ]
  },
  {
   "cell_type": "code",
   "execution_count": 43,
   "metadata": {},
   "outputs": [
    {
     "data": {
      "application/vnd.jupyter.widget-view+json": {
       "model_id": "e80a6ca524bc4d0d9769253b2a072122",
       "version_major": 2,
       "version_minor": 0
      },
      "text/plain": [
       "Canvas(toolbar=Toolbar(toolitems=[('Home', 'Reset original view', 'home', 'home'), ('Back', 'Back to previous …"
      ]
     },
     "metadata": {},
     "output_type": "display_data"
    },
    {
     "data": {
      "text/plain": [
       "<matplotlib.legend.Legend at 0x7f50ac312dc0>"
      ]
     },
     "execution_count": 43,
     "metadata": {},
     "output_type": "execute_result"
    }
   ],
   "source": [
    "x_axis, vp = grid.axis_plot(part.V.vp[:,0] + part.V.vp[:,1])\n",
    "x_axis, vp_kin = grid.axis_plot(part.V.vp_kin[:,0] + part.V.vp_kin[:,1])\n",
    "x_axis, vp_xc = grid.axis_plot(part.V.vp_x[:,0] + part.V.vp_x[:,1] + part.V.vp_c[:,0] + part.V.vp_c[:,1])\n",
    "x_axis, vp_hext = grid.axis_plot( part.V.vp_h[:,0] + part.V.vp_h[:,1] + part.V.vp_pot[:,0] + part.V.vp_pot[:,1])\n",
    "\n",
    "fig = plt.figure(dpi=150)\n",
    "plt.plot(x_axis, vp, label='Total')\n",
    "plt.plot(x_axis, vp_kin, label='Kinetic')\n",
    "plt.plot(x_axis, vp_xc, label='XC')\n",
    "plt.plot(x_axis, vp_hext, label=\"H + Vext\")\n",
    "\n",
    "plt.xlim(0,7)\n",
    "plt.ylim(-0.2, 0.2)\n",
    "\n",
    "plt.legend()"
   ]
  },
  {
   "cell_type": "markdown",
   "metadata": {},
   "source": [
    "---\n",
    "### Generate Table 9. Energies and Components of Ep, in atomic Units"
   ]
  },
  {
   "cell_type": "code",
   "execution_count": 68,
   "metadata": {},
   "outputs": [
    {
     "data": {
      "text/plain": [
       "{'Ea': -7.337784850223082,\n",
       " 'Eb': -7.337784850223082,\n",
       " 'Ef': -14.675569700446164,\n",
       " 'Tsf': 14.515977605630539,\n",
       " 'Eksf': array([[-3.87274135, -3.62105117]]),\n",
       " 'Enucf': -33.88821469685777,\n",
       " 'Exf': -3.0418434866746957,\n",
       " 'Ecf': -0.30099393923990164,\n",
       " 'Ehf': 8.039504816695667,\n",
       " 'Vhxcf': 11.684634295466644,\n",
       " 'Ep': -1.8069182207761783,\n",
       " 'Ep_pot': -3.6782118547644824,\n",
       " 'Ep_kin': 0.0047843397213842564,\n",
       " 'Ep_hxc': 1.86650929426692,\n",
       " 'Et': -16.482487921222344,\n",
       " 'Vnn': 1.757126122608356,\n",
       " 'E': -14.725361798613987,\n",
       " 'evals_a': array([], dtype=float64),\n",
       " 'evals_b': array([], dtype=float64),\n",
       " 'Ep_h': 1.8866106227315615,\n",
       " 'Ep_x': 0.007092234668995001,\n",
       " 'Ep_c': -0.027193563133636578}"
      ]
     },
     "execution_count": 68,
     "metadata": {},
     "output_type": "execute_result"
    }
   ],
   "source": [
    "values = {}\n",
    "for i in part.E.__dict__:\n",
    "    if i.startswith(\"__\") is False:\n",
    "        values.update({i : getattr(part.E, i)})\n",
    "values"
   ]
  },
  {
   "cell_type": "code",
   "execution_count": null,
   "metadata": {},
   "outputs": [],
   "source": [
    "x_axis,vp = grid.axis_plot(part.V.vp[:,0] + part.V.vp[:,1])"
   ]
  }
 ],
 "metadata": {
  "kernelspec": {
   "display_name": "Python 3",
   "language": "python",
   "name": "python3"
  },
  "language_info": {
   "codemirror_mode": {
    "name": "ipython",
    "version": 3
   },
   "file_extension": ".py",
   "mimetype": "text/x-python",
   "name": "python",
   "nbconvert_exporter": "python",
   "pygments_lexer": "ipython3",
   "version": "3.8.5"
  }
 },
 "nbformat": 4,
 "nbformat_minor": 4
}
