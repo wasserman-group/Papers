{
 "cells": [
  {
   "cell_type": "code",
   "execution_count": 3,
   "metadata": {},
   "outputs": [],
   "source": [
    "import numpy as np\n",
    "import matplotlib.pyplot as plt\n",
    "from CADMium import Kohnsham, Pssolver, Psgrid, Partition, Inverter\n"
   ]
  },
  {
   "cell_type": "markdown",
   "metadata": {},
   "source": [
    "---\n",
    "### Perform PDFT Calculation. \n",
    "Currently the method used is \"OrbitalInvert\". \n",
    "But original code may have used \"WuYang\". \n",
    "Code should run as it is but for idential calculations increase to grid size to: [7,12,12]"
   ]
  },
  {
   "cell_type": "code",
   "execution_count": 34,
   "metadata": {},
   "outputs": [
    {
     "name": "stdout",
     "output_type": "stream",
     "text": [
      "Warning: If len(KS) > 1 Has not been migrated from matlab\n",
      "                Total Energy ( a.u.)                               Inversion                \n",
      "\n",
      "                __________________                ____________________________________     \n",
      "\n",
      "Iteration         A              B                  iters      optimality        res       \n",
      "\n",
      "___________________________________________________________________________________________ \n",
      "\n",
      "    1            -7.32464        -7.32464             9       +4.669e-11      +1.000e+00\n",
      "    2            -7.32866        -7.32866            10       +2.640e-11      +4.569e-02\n",
      "    3            -7.34060        -7.34060             8       +2.320e-11      +2.900e-02\n",
      "    4            -7.34060        -7.34060             9       +4.822e-15      +2.343e-02\n",
      "    5            -7.33583        -7.33583             8       +5.505e-14      +9.256e-03\n",
      "    6            -7.33822        -7.33822             6       +5.684e-11      +6.618e-03\n",
      "    7            -7.33610        -7.33610             6       +2.891e-12      +7.186e-03\n",
      "    8            -7.33881        -7.33881             6       +5.222e-13      +4.741e-03\n",
      "    9            -7.33881        -7.33881             6       +4.697e-14      +4.233e-03\n",
      "   10            -7.33747        -7.33747             6       +3.988e-14      +1.798e-03\n",
      "   11            -7.33727        -7.33727             5       +4.156e-15      +2.017e-03\n",
      "   12            -7.33780        -7.33780             5       +6.353e-15      +2.049e-04\n",
      "   13            -7.33806        -7.33806             4       +2.057e-14      +9.114e-04\n",
      "   14            -7.33787        -7.33787             4       +1.868e-11      +2.684e-04\n",
      "   15            -7.33769        -7.33769             4       +7.529e-13      +2.949e-04\n",
      "   16            -7.33770        -7.33770             4       +1.611e-13      +1.668e-04\n",
      "   17            -7.33779        -7.33779             4       +2.133e-14      +7.718e-05\n",
      "   18            -7.33782        -7.33782             3       +4.336e-15      +7.973e-05\n",
      "   19            -7.33780        -7.33780             3       +4.937e-15      +1.557e-05\n",
      "   20            -7.33778        -7.33778             3       +4.512e-15      +3.423e-05\n",
      "   21            -7.33778        -7.33778             3       +4.725e-15      +6.247e-06\n",
      "   22            -7.33778        -7.33778             2       +6.697e-11      +1.409e-05\n",
      "   23            -7.33778        -7.33778             3       +4.522e-15      +4.038e-06\n",
      "   24            -7.33778        -7.33778             2       +1.795e-11      +5.011e-06\n",
      "   25            -7.33779        -7.33779             2       +1.820e-11      +2.902e-06\n",
      "   26            -7.33779        -7.33779             2       +4.423e-12      +1.351e-06\n",
      "   27            -7.33779        -7.33779             2       +1.833e-12      +1.447e-06\n",
      "   28            -7.33778        -7.33778             2       +1.641e-12      +2.644e-07\n",
      "   29            -7.33778        -7.33778             2       +4.086e-14      +6.179e-07\n",
      "   30            -7.33778        -7.33778             2       +1.799e-13      +1.044e-07\n",
      "   31            -7.33778        -7.33778             2       +2.194e-14      +2.435e-07\n",
      "   32            -7.33778        -7.33778             2       +3.128e-14      +8.058e-08\n",
      "   33            -7.33778        -7.33778             2       +4.624e-15      +8.225e-08\n",
      "   34            -7.33778        -7.33778             2       +5.713e-15      +5.243e-08\n",
      "   35            -7.33778        -7.33778             2       +7.993e-15      +2.293e-08\n",
      "   36            -7.33778        -7.33778             2       +4.774e-15      +2.604e-08\n",
      "   37            -7.33778        -7.33778             2       +5.233e-15      +4.308e-09\n",
      "   38            -7.33778        -7.33778             2       +4.556e-15      +1.112e-08\n",
      "   39            -7.33778        -7.33778             2       +4.516e-15      +1.868e-09\n",
      "   40            -7.33778        -7.33778             1       +5.572e-11      +3.127e-09\n",
      "   41            -7.33778        -7.33778             1       +7.961e-11      +3.317e-09\n",
      "   42            -7.33778        -7.33778             2       +4.650e-15      +1.781e-09\n",
      "   43            -7.33778        -7.33778             1       +6.557e-11      +3.011e-09\n",
      "   44            -7.33778        -7.33778             2       +5.350e-15      +1.382e-09\n",
      "   45            -7.33778        -7.33778             1       +3.592e-11      +2.160e-09\n",
      "   46            -7.33778        -7.33778             2       +4.448e-15      +8.979e-10\n"
     ]
    }
   ],
   "source": [
    "a = 5.122/2\n",
    "#Nuclear charge for fragments A and B\n",
    "Za, Zb = 3,3\n",
    "#Set polarization 1-Unpolarized, 2-Polarized\n",
    "pol = 2\n",
    "#Fragment a electrons [alpha, beta]\n",
    "Nmo_a = [[2,1]] #Number of molecular orbitals to calculate\n",
    "N_a   = [[2,1]]\n",
    "#Ensemble mix\n",
    "nu_a = 1\n",
    "#Fragment b electrons\n",
    "Nmo_b = [[2,1]]\n",
    "N_b   = [[2,1]]\n",
    "#Ensemble mix\n",
    "nu_b = 1\n",
    "\n",
    "#Molecular elctron configuration\n",
    "Nmo_m = [[3,3]]\n",
    "N_m   = [[3,3]]\n",
    "\n",
    "#Grid Options\n",
    "NP = 7 #Number of points per block\n",
    "NM =  [6,6] #Number of blocks [angular, radial]\n",
    "L = np.arccosh(15./a) #Maximum radial coordinate value\n",
    "loc = np.array(range(-4,5)) #Non inclusive on upper bound\n",
    "grid = Psgrid(NP, NM, a, L, loc)\n",
    "grid.initialize()\n",
    "\n",
    "\n",
    "\n",
    "#Initialize required objects. And make calculation in isolated fragments for initial guess. \n",
    "\n",
    "part = Partition(grid, Za, Zb, pol, Nmo_a, N_a, nu_a, Nmo_b, N_b, nu_b, { \"kinetic_part_type\" : 'inversion',\n",
    "                                                                          \"vp_calc_type\"      : \"component\",\n",
    "                                                                          \"ab_sym\"            : True,\n",
    "                                                                          \"ens_spin_sym\"      : True,})\n",
    "\n",
    "#Setup inverter object\n",
    "mol_solver = Pssolver(grid, Nmo_m, N_m)\n",
    "part.inverter = Inverter(grid, mol_solver, {\"invert_type\"     : \"orbitalinvert\",\n",
    "                                            \"tol_invert\"      : 1e-10,\n",
    "                                            \"max_iter_invert\" : 100,\n",
    "                                            \"disp\"            : False,\n",
    "                                            \"ab_sym\"          : True,\n",
    "                                            \"ens_spin_sym\"    : True,})\n",
    "\n",
    "part.optPartition.isolated = True\n",
    "part.scf({\"disp\"  : False,\n",
    "          \"alpha\" : [0.6],\n",
    "          \"e_tol\" : 1e-12})\n",
    "\n",
    "D0_frag_a = part.KSa.n.copy()\n",
    "D0_frag_b = part.KSa.n.copy()\n",
    "\n",
    "\n",
    "#Turn off iterative linear solver for each solver\n",
    "part.KSa.solver[0][0].optSolver.iter_lin_solver = False\n",
    "part.KSa.solver[0][1].optSolver.iter_lin_solver = False\n",
    "\n",
    "\n",
    "part.optPartition.isolated   = False\n",
    "\n",
    "part.scf({\"disp\"       : True,\n",
    "          \"alpha\"      : [0.6],\n",
    "          \"max_iter\"   : 200,\n",
    "          \"e_tol\"      : 1e-9,\n",
    "          \"continuing\" : True})\n",
    "\n",
    "#Store full densities under the presence of vp.\n",
    "Dvp_frag_a = part.KSa.n.copy()\n",
    "Dvp_frag_b = part.KSb.n.copy()"
   ]
  },
  {
   "cell_type": "markdown",
   "metadata": {},
   "source": [
    "---\n",
    "### Generate Figure 9. Parititon Potential. "
   ]
  },
  {
   "cell_type": "code",
   "execution_count": 64,
   "metadata": {},
   "outputs": [
    {
     "data": {
      "application/vnd.jupyter.widget-view+json": {
       "model_id": "2dec40fe9b8f46e283066fc53baecd1a",
       "version_major": 2,
       "version_minor": 0
      },
      "text/plain": [
       "Canvas(toolbar=Toolbar(toolitems=[('Home', 'Reset original view', 'home', 'home'), ('Back', 'Back to previous …"
      ]
     },
     "metadata": {},
     "output_type": "display_data"
    },
    {
     "data": {
      "text/plain": [
       "(-7.0, 7.0, -7.0, 7.0)"
      ]
     },
     "execution_count": 64,
     "metadata": {},
     "output_type": "execute_result"
    }
   ],
   "source": [
    "full, x,y = grid.plotter(part.V.vp[:,0])\n",
    "fig, ax = plt.subplots(dpi=300)\n",
    "\n",
    "plot = ax.contourf(x,y,full, levels=22, cmap=\"plasma\")\n",
    "\n",
    "ax.set_aspect('equal')\n",
    "ax.set_xlim([-7,7])\n",
    "ax.set_ylim([-7,7])\n",
    "\n",
    "ax.scatter(5.122/2, 0, color='white', s=20)\n",
    "ax.scatter(-5.122/2, 0, color='white', s=15)\n",
    "\n",
    "ax.axis('off')\n",
    "\n",
    "# fig.colorbar(plot)\n",
    "# plt.show()"
   ]
  },
  {
   "cell_type": "markdown",
   "metadata": {},
   "source": [
    "---\n",
    "### Generate Figure 9. Difference between Fragment Density and Isolated Atomic Density. "
   ]
  },
  {
   "cell_type": "code",
   "execution_count": 36,
   "metadata": {},
   "outputs": [
    {
     "data": {
      "application/vnd.jupyter.widget-view+json": {
       "model_id": "e596b10fdbe443f9840bb412ab7955ab",
       "version_major": 2,
       "version_minor": 0
      },
      "text/plain": [
       "Canvas(toolbar=Toolbar(toolitems=[('Home', 'Reset original view', 'home', 'home'), ('Back', 'Back to previous …"
      ]
     },
     "metadata": {},
     "output_type": "display_data"
    },
    {
     "data": {
      "text/plain": [
       "<matplotlib.colorbar.Colorbar at 0x7fee0c66beb0>"
      ]
     },
     "execution_count": 36,
     "metadata": {},
     "output_type": "execute_result"
    }
   ],
   "source": [
    "D_grid, x, y = grid.plotter(D0_frag_a[:,0])\n",
    "D_vp_grid, _, _ = grid.plotter(Dvp_frag_a[:,0])\n",
    "\n",
    "fig, ax = plt.subplots(dpi=150)\n",
    "plot = plt.contourf(x,y, D_vp_grid - D_grid, levels=100, cmap=\"jet\")\n",
    "\n",
    "ax.set_aspect('equal')\n",
    "ax.set_xlim([-5,5])\n",
    "ax.set_ylim([-5,5])\n",
    "\n",
    "fig.colorbar(plot)\n",
    "# plt.show()"
   ]
  },
  {
   "cell_type": "markdown",
   "metadata": {},
   "source": [
    "---\n",
    "### Generate Figure 11. Components of the Partition Potential"
   ]
  },
  {
   "cell_type": "code",
   "execution_count": 37,
   "metadata": {},
   "outputs": [
    {
     "data": {
      "application/vnd.jupyter.widget-view+json": {
       "model_id": "fdf64156be004177a80a665c859c3fbd",
       "version_major": 2,
       "version_minor": 0
      },
      "text/plain": [
       "Canvas(toolbar=Toolbar(toolitems=[('Home', 'Reset original view', 'home', 'home'), ('Back', 'Back to previous …"
      ]
     },
     "metadata": {},
     "output_type": "display_data"
    },
    {
     "data": {
      "text/plain": [
       "<matplotlib.legend.Legend at 0x7fee0c503220>"
      ]
     },
     "execution_count": 37,
     "metadata": {},
     "output_type": "execute_result"
    }
   ],
   "source": [
    "x_axis, vp      = grid.axis_plot(part.V.vp[:,0])\n",
    "x_axis, vp_kin  = grid.axis_plot(part.V.vp_kin[:,0])\n",
    "x_axis, vp_xc   = grid.axis_plot(part.V.vp_x[:,0] + part.V.vp_c[:,0] )\n",
    "x_axis, vp_hext = grid.axis_plot( part.V.vp_h[:,0] + part.V.vp_pot[:,0])\n",
    "\n",
    "fig, ax = plt.subplots(dpi=150)\n",
    "\n",
    "ax.plot(x_axis, vp, label='Total')\n",
    "ax.plot(x_axis, vp_kin, label='Kinetic')\n",
    "ax.plot(x_axis, vp_xc, label='XC')\n",
    "ax.plot(x_axis, vp_hext, label=\"H + Vext\")\n",
    "\n",
    "ax.set_xlim(0,7)\n",
    "ax.set_ylim(-0.12, 0.12)\n",
    "\n",
    "ax.legend()\n"
   ]
  },
  {
   "cell_type": "markdown",
   "metadata": {},
   "source": [
    "---\n",
    "### Generate Table 9. Energies and Components of Ep, in atomic Units"
   ]
  },
  {
   "cell_type": "code",
   "execution_count": 6,
   "metadata": {},
   "outputs": [
    {
     "data": {
      "text/plain": [
       "{'Ea': -7.337784849443326,\n",
       " 'Eb': -7.337784849443326,\n",
       " 'Ef': -14.675569698886653,\n",
       " 'Tsf': 14.515977603251898,\n",
       " 'Eksf': array([[-3.87274135, -3.62105118]]),\n",
       " 'Enucf': -33.88821469087026,\n",
       " 'Exf': -3.041843485917988,\n",
       " 'Ecf': -0.3009939391861839,\n",
       " 'Ehf': 8.039504813835878,\n",
       " 'Vhxcf': 11.684634289090768,\n",
       " 'Ep': -1.806918223995157,\n",
       " 'Ep_pot': -3.6782118538543833,\n",
       " 'Ep_kin': 0.004784336086718355,\n",
       " 'Ep_hxc': 1.866509293772508,\n",
       " 'Et': -16.48248792288181,\n",
       " 'Vnn': 1.757126122608356,\n",
       " 'E': -14.725361800273452,\n",
       " 'evals_a': array([], dtype=float64),\n",
       " 'evals_b': array([], dtype=float64),\n",
       " 'Ep_h': 1.8866106216767342,\n",
       " 'Ep_x': 0.007092235124382729,\n",
       " 'Ep_c': -0.027193563028608814}"
      ]
     },
     "execution_count": 6,
     "metadata": {},
     "output_type": "execute_result"
    }
   ],
   "source": [
    "values = {}\n",
    "for i in part.E.__dict__:\n",
    "    if i.startswith(\"__\") is False:\n",
    "        values.update({i : getattr(part.E, i)})\n",
    "values"
   ]
  },
  {
   "cell_type": "code",
   "execution_count": 63,
   "metadata": {},
   "outputs": [
    {
     "data": {
      "application/vnd.jupyter.widget-view+json": {
       "model_id": "9f8150bcf9b6433f84baecf9fd139ba3",
       "version_major": 2,
       "version_minor": 0
      },
      "text/plain": [
       "Canvas(toolbar=Toolbar(toolitems=[('Home', 'Reset original view', 'home', 'home'), ('Back', 'Back to previous …"
      ]
     },
     "metadata": {},
     "output_type": "display_data"
    }
   ],
   "source": [
    "%matplotlib widget\n",
    "\n",
    "fig, ax = plt.subplots(subplot_kw={\"projection\": \"3d\"}, dpi=300)\n",
    "surf = ax.plot_surface(x, y, full, cmap=\"plasma\", alpha=1.0, \n",
    "                       linewidth=20, antialiased=True)\n",
    "\n",
    "ax.grid(False)\n",
    "ax.set_axis_off()\n",
    "ax.dist = 6\n",
    "ax.set_facecolor(\"white\")\n",
    "\n",
    "fig.show()"
   ]
  },
  {
   "cell_type": "code",
   "execution_count": null,
   "metadata": {},
   "outputs": [],
   "source": []
  }
 ],
 "metadata": {
  "kernelspec": {
   "display_name": "Python 3",
   "language": "python",
   "name": "python3"
  },
  "language_info": {
   "codemirror_mode": {
    "name": "ipython",
    "version": 3
   },
   "file_extension": ".py",
   "mimetype": "text/x-python",
   "name": "python",
   "nbconvert_exporter": "python",
   "pygments_lexer": "ipython3",
   "version": "3.8.5"
  }
 },
 "nbformat": 4,
 "nbformat_minor": 4
}
