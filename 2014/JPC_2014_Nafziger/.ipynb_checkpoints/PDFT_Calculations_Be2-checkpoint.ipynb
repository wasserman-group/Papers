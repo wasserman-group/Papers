{
 "cells": [
  {
   "cell_type": "code",
   "execution_count": 1,
   "metadata": {},
   "outputs": [],
   "source": [
    "import numpy as np\n",
    "import matplotlib.pyplot as plt\n",
    "from CADMium import Pssolver, Psgrid, Partition, Inverter"
   ]
  },
  {
   "cell_type": "markdown",
   "metadata": {},
   "source": [
    "### Perform PDFT Calculation. \n",
    "\n",
    "Code should run as it is but for idential calculations increase to grid size to: [7,12,12]"
   ]
  },
  {
   "cell_type": "code",
   "execution_count": 84,
   "metadata": {},
   "outputs": [
    {
     "name": "stdout",
     "output_type": "stream",
     "text": [
      "Warning: If len(KS) > 1 Has not been migrated from matlab\n",
      "                Total Energy ( a.u.)                               Inversion                \n",
      "\n",
      "                __________________                ____________________________________     \n",
      "\n",
      "Iteration         A              B                  iters      optimality        res       \n",
      "\n",
      "___________________________________________________________________________________________ \n",
      "\n",
      "    1           -14.43315       -14.43315             5       +9.929e-02      +1.000e+00\n",
      "    2           -14.43466       -14.43466             4       +2.091e-05      +1.556e-03\n",
      "    3           -14.45966       -14.45966             4       +3.488e-04      +1.777e-03\n",
      "    4           -14.43906       -14.43906             4       +7.463e-04      +1.847e-03\n",
      "    5           -14.46721       -14.46721             3       +6.627e-03      +1.529e-03\n",
      "    6           -14.44277       -14.44277             3       +2.213e-02      +1.032e-03\n",
      "    7           -14.44361       -14.44361             3       +1.180e-02      +2.694e-04\n",
      "    8           -14.43656       -14.43656             3       +1.373e-02      +6.894e-04\n",
      "    9           -14.42236       -14.42236             3       +1.320e-02      +7.353e-04\n",
      "   10           -14.41704       -14.41704             3       +7.746e-03      +6.876e-04\n",
      "   11           -14.42367       -14.42367             3       +8.328e-03      +4.942e-04\n",
      "   12           -14.43228       -14.43228             3       +9.280e-03      +2.459e-04\n",
      "   13           -14.43920       -14.43920             3       +7.336e-03      +2.153e-04\n",
      "   14           -14.44772       -14.44772             3       +1.101e-02      +3.033e-04\n",
      "   15           -14.45136       -14.45136             3       +1.873e-02      +3.397e-04\n",
      "   16           -14.44691       -14.44691             3       +3.135e-02      +2.411e-04\n",
      "   17           -14.44188       -14.44188             3       +9.820e-03      +1.377e-04\n",
      "   18           -14.43822       -14.43822             3       +6.350e-04      +8.514e-05\n",
      "   19           -14.43457       -14.43457             2       +2.320e-02      +1.130e-04\n",
      "   20           -14.43351       -14.43351             2       +2.596e-02      +1.247e-04\n",
      "   21           -14.43566       -14.43566             2       +2.672e-02      +7.855e-05\n",
      "   22           -14.43802       -14.43802             2       +2.550e-02      +6.005e-05\n",
      "   23           -14.43954       -14.43954             2       +2.037e-02      +4.552e-05\n",
      "   24           -14.44075       -14.44075             2       +1.329e-02      +5.106e-05\n",
      "   25           -14.44087       -14.44087             2       +6.738e-03      +4.446e-05\n",
      "   26           -14.43971       -14.43971             2       +3.407e-03      +3.569e-05\n",
      "   27           -14.43860       -14.43860             2       +3.292e-03      +2.890e-05\n",
      "   28           -14.43807       -14.43807             2       +3.827e-03      +3.107e-05\n",
      "   29           -14.43781       -14.43781             2       +4.070e-03      +2.685e-05\n",
      "   30           -14.43800       -14.43800             2       +3.290e-03      +1.770e-05\n",
      "   31           -14.43865       -14.43865             2       +1.932e-03      +1.924e-05\n",
      "   32           -14.43918       -14.43918             2       +7.566e-04      +1.837e-05\n",
      "   33           -14.43936       -14.43936             2       +4.130e-04      +2.006e-05\n",
      "   34           -14.43935       -14.43935             2       +4.281e-04      +1.529e-05\n",
      "   35           -14.43916       -14.43916             2       +5.380e-04      +7.981e-06\n",
      "   36           -14.43881       -14.43881             2       +5.464e-04      +1.010e-05\n",
      "   37           -14.43855       -14.43855             2       +4.303e-04      +1.054e-05\n",
      "   38           -14.43849       -14.43849             2       +2.412e-04      +1.128e-05\n",
      "   39           -14.43853       -14.43853             2       +8.933e-05      +8.551e-06\n",
      "   40           -14.43865       -14.43865             2       +5.332e-05      +4.024e-06\n",
      "   41           -14.43882       -14.43882             2       +6.946e-05      +4.884e-06\n",
      "   42           -14.43895       -14.43895             2       +9.087e-05      +4.876e-06\n",
      "   43           -14.43897       -14.43897             2       +8.934e-05      +5.356e-06\n",
      "   44           -14.43894       -14.43894             2       +6.197e-05      +4.212e-06\n",
      "   45           -14.43888       -14.43888             2       +2.789e-05      +2.079e-06\n",
      "   46           -14.43881       -14.43881             2       +9.303e-06      +2.150e-06\n",
      "   47           -14.43875       -14.43875             2       +9.104e-06      +1.946e-06\n",
      "   48           -14.43874       -14.43874             2       +1.284e-05      +2.176e-06\n",
      "   49           -14.43876       -14.43876             2       +1.473e-05      +1.767e-06\n",
      "   50           -14.43878       -14.43878             2       +1.233e-05      +9.149e-07\n",
      "   51           -14.43881       -14.43881             2       +6.881e-06      +8.606e-07\n",
      "   52           -14.43884       -14.43884             2       +2.423e-06      +7.434e-07\n",
      "   53           -14.43884       -14.43884             2       +1.247e-06      +7.918e-07\n",
      "   54           -14.43883       -14.43883             2       +1.642e-06      +6.373e-07\n",
      "   55           -14.43882       -14.43882             2       +2.161e-06      +3.192e-07\n",
      "   56           -14.43881       -14.43881             2       +2.170e-06      +3.181e-07\n",
      "   57           -14.43880       -14.43880             2       +1.462e-06      +2.965e-07\n",
      "   58           -14.43880       -14.43880             2       +6.386e-07      +2.871e-07\n",
      "   59           -14.43881       -14.43881             2       +2.173e-07      +2.076e-07\n",
      "   60           -14.43881       -14.43881             2       +2.015e-07      +9.987e-08\n"
     ]
    }
   ],
   "source": [
    "a = 4.522/2\n",
    "#Nuclear charge for fragments A and B\n",
    "Za, Zb = 4,4\n",
    "#Set polarization 1-Unpolarized, 2-Polarized\n",
    "pol = 1\n",
    "#Fragment a electrons [alpha, beta]\n",
    "Nmo_a = [[2]] #Number of molecular orbitals to calculate\n",
    "N_a   = [[4]]\n",
    "#Ensemble mix\n",
    "nu_a = 1\n",
    "#Fragment b electrons\n",
    "Nmo_b = [[2]]\n",
    "N_b   = [[4]]\n",
    "#Ensemble mix\n",
    "nu_b = 1\n",
    "\n",
    "#Molecular elctron configuration\n",
    "Nmo_m = [[4]]\n",
    "N_m   = [[8]]\n",
    "\n",
    "\n",
    "#Set up grid\n",
    "NP = 7\n",
    "NM = [6,6]\n",
    "L = np.arccosh(15/a)\n",
    "loc = np.array(range(-4,5)) #Stencil outline\n",
    "\n",
    "grid = Psgrid(NP, NM, a, L, loc)\n",
    "grid.initialize()\n",
    "\n",
    "part = Partition(grid, Za, Zb, pol, Nmo_a, N_a, nu_a, Nmo_b, N_b, nu_b, { \"kinetic_part_type\" : \"inversion\",\n",
    "                                                                          \"ab_sym\"            : True,\n",
    "                                                                          \"ens_spin_sym\"      : False})\n",
    "#Setup inverter object\n",
    "mol_solver = Pssolver(grid, Nmo_m, N_m, {\"tol_orbital\" : 1e-9})\n",
    "part.inverter = Inverter(grid, mol_solver, {\"invert_type\"    : \"wuyang\", \n",
    "                                            \"ab_sym\"         : True,\n",
    "                                            \"ens_spin_sym\"   : False,\n",
    "                                            \"tol_lin_solver\" : 1e-3,\n",
    "                                            \"tol_invert\"     : 1e-4,\n",
    "                                            \"res_factor\"     : 0,\n",
    "                                           })\n",
    "\n",
    "part.optPartition.isolated = True\n",
    "part.scf({\"disp\"  : False,\n",
    "          \"alpha\" : [0.6],\n",
    "          \"e_tol\" : 1e-7})\n",
    "\n",
    "D0_frag_a = part.KSa.n.copy()\n",
    "D0_frag_b = part.KSa.n.copy()\n",
    "\n",
    "part.optPartition.isolated   = False\n",
    "part.scf({\"disp\"       : True,\n",
    "          \"alpha\"      : [0.3],\n",
    "          \"max_iter\"   : 200,\n",
    "          \"e_tol\"      : 1e-7,\n",
    "          \"continuing\" : True, \n",
    "          \"iterative\"  : False})\n",
    "\n",
    "# #Store full densities under the presence of vp.\n",
    "Dvp_frag_a = part.KSa.n.copy()\n",
    "Dvp_frag_b = part.KSb.n.copy()"
   ]
  },
  {
   "cell_type": "markdown",
   "metadata": {},
   "source": [
    "---\n",
    "### Generate Figure 9. Parititon Potential. "
   ]
  },
  {
   "cell_type": "code",
   "execution_count": 104,
   "metadata": {},
   "outputs": [
    {
     "data": {
      "application/vnd.jupyter.widget-view+json": {
       "model_id": "752449e4c15740e0b27a754cd7f2ea37",
       "version_major": 2,
       "version_minor": 0
      },
      "text/plain": [
       "Canvas(toolbar=Toolbar(toolitems=[('Home', 'Reset original view', 'home', 'home'), ('Back', 'Back to previous …"
      ]
     },
     "metadata": {},
     "output_type": "display_data"
    },
    {
     "data": {
      "text/plain": [
       "(-5.0, 5.0)"
      ]
     },
     "execution_count": 104,
     "metadata": {},
     "output_type": "execute_result"
    }
   ],
   "source": [
    "## full, x,y = grid.plotter(part.V.vp[:,0])\n",
    "fig, ax = plt.subplots(dpi=300)\n",
    "\n",
    "#vmin=-0.3, vmax=0.3\n",
    "\n",
    "plot = ax.contourf(x,y,full, levels=20, cmap=\"viridis\")\n",
    "ax.scatter(4.522/2, 0, color='white', s=20)\n",
    "ax.scatter(-4.522/2, 0, color='white', s=15)\n",
    "\n",
    "ax.axis('off')\n",
    "\n",
    "\n",
    "\n",
    "ax.set_aspect('equal')\n",
    "ax.set_xlim([-5,5])\n",
    "ax.set_ylim([-5,5])\n",
    "\n",
    "# fig.colorbar(plot) "
   ]
  },
  {
   "cell_type": "markdown",
   "metadata": {},
   "source": [
    "---\n",
    "### Generate Figure 9. Difference between Fragment Density and Isolated Atomic Density. "
   ]
  },
  {
   "cell_type": "code",
   "execution_count": null,
   "metadata": {},
   "outputs": [],
   "source": [
    "\n",
    "D_grid, x, y = grid.plotter(D0_frag_a[:,0])\n",
    "D_vp_grid, _, _ = grid.plotter(Dvp_frag_a[:,0])\n",
    "\n",
    "fig, ax = plt.subplots(dpi=150)\n",
    "\n",
    "plot = ax.contourf(x,y, D_vp_grid - D_grid, levels=100, cmap=\"jet\", vmin=-0.1, vmax=0.1)\n",
    "\n",
    "ax.set_xlim([-5,5])\n",
    "ax.set_ylim([-5,5])\n",
    "\n",
    "fig.colorbar(plot)\n",
    "# plt.show()"
   ]
  },
  {
   "cell_type": "markdown",
   "metadata": {},
   "source": [
    "---\n",
    "### Generate Figure 11. Components of the Partition Potential"
   ]
  },
  {
   "cell_type": "code",
   "execution_count": null,
   "metadata": {},
   "outputs": [],
   "source": [
    "x_axis, vp      = grid.axis_plot(part.V.vp[:,0])\n",
    "x_axis, vp_kin  = grid.axis_plot(part.V.vp_kin[:,0])\n",
    "x_axis, vp_xc   = grid.axis_plot(part.V.vp_x[:,0] + part.V.vp_c[:,0] )\n",
    "x_axis, vp_hext = grid.axis_plot( part.V.vp_h[:,0] + part.V.vp_pot[:,0])\n",
    "\n",
    "fig, ax = plt.subplots(dpi=150)\n",
    "\n",
    "ax.plot(x_axis, vp, label='Total')\n",
    "ax.plot(x_axis, vp_kin, label='Kinetic')\n",
    "ax.plot(x_axis, vp_xc, label='XC')\n",
    "ax.plot(x_axis, vp_hext, label=\"H + Vext\")\n",
    "\n",
    "ax.set_xlim(0,7)\n",
    "ax.set_ylim(-0.4, 0.1)\n",
    "\n",
    "ax.legend()"
   ]
  },
  {
   "cell_type": "markdown",
   "metadata": {},
   "source": [
    "---\n",
    "### Generate Table 9. Energies and Components of Ep, in atomic Units"
   ]
  },
  {
   "cell_type": "code",
   "execution_count": 3,
   "metadata": {},
   "outputs": [
    {
     "data": {
      "text/plain": [
       "{'Ea': -14.64239075876027,\n",
       " 'Eb': -14.64239075876027,\n",
       " 'Ef': -29.28478151752054,\n",
       " 'Tsf': 25.34937178021555,\n",
       " 'Eksf': array([[-16.72707747]]),\n",
       " 'Enucf': -63.73131825287787,\n",
       " 'Exf': -4.527858632036746,\n",
       " 'Ecf': -0.4495664797297575,\n",
       " 'Ehf': 14.074590066908286,\n",
       " 'Vhxcf': 21.60485817523808,\n",
       " 'Ep': -3.614959527515154,\n",
       " 'Ep_pot': -7.1522854050404625,\n",
       " 'Ep_kin': 0.0642644656425091,\n",
       " 'Ep_hxc': 3.4730614118827994,\n",
       " 'Et': -32.8997410450357,\n",
       " 'Vnn': 3.5382574082264484,\n",
       " 'E': -29.361483636809247,\n",
       " 'evals_a': array([], dtype=float64),\n",
       " 'evals_b': array([], dtype=float64),\n",
       " 'Ep_h': 3.519875684463109,\n",
       " 'Ep_x': -0.04185713118930234,\n",
       " 'Ep_c': -0.004957141391007558}"
      ]
     },
     "execution_count": 3,
     "metadata": {},
     "output_type": "execute_result"
    }
   ],
   "source": [
    "values = {}\n",
    "for i in part.E.__dict__:\n",
    "    if i.startswith(\"__\") is False:\n",
    "        values.update({i : getattr(part.E, i)})\n",
    "values"
   ]
  },
  {
   "cell_type": "code",
   "execution_count": 102,
   "metadata": {},
   "outputs": [
    {
     "data": {
      "application/vnd.jupyter.widget-view+json": {
       "model_id": "14c44a7df798491281e9095bf825b518",
       "version_major": 2,
       "version_minor": 0
      },
      "text/plain": [
       "Canvas(toolbar=Toolbar(toolitems=[('Home', 'Reset original view', 'home', 'home'), ('Back', 'Back to previous …"
      ]
     },
     "metadata": {},
     "output_type": "display_data"
    }
   ],
   "source": [
    "%matplotlib widget\n",
    "\n",
    "fig, ax = plt.subplots(subplot_kw={\"projection\": \"3d\"}, dpi=300)\n",
    "surf = ax.plot_surface(x, y, full, cmap=\"viridis\", alpha=0.9,\n",
    "                       linewidth=10, antialiased=True)\n",
    "\n",
    "ax.grid(False)\n",
    "ax.set_axis_off()\n",
    "\n",
    "ax.dist = 6\n",
    "ax.set_facecolor(\"white\")\n",
    "fig.show()"
   ]
  },
  {
   "cell_type": "code",
   "execution_count": null,
   "metadata": {},
   "outputs": [],
   "source": []
  }
 ],
 "metadata": {
  "kernelspec": {
   "display_name": "Python 3",
   "language": "python",
   "name": "python3"
  },
  "language_info": {
   "codemirror_mode": {
    "name": "ipython",
    "version": 3
   },
   "file_extension": ".py",
   "mimetype": "text/x-python",
   "name": "python",
   "nbconvert_exporter": "python",
   "pygments_lexer": "ipython3",
   "version": "3.8.5"
  }
 },
 "nbformat": 4,
 "nbformat_minor": 4
}
