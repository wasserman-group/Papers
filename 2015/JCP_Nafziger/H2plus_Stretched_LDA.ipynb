{
 "cells": [
  {
   "cell_type": "code",
   "execution_count": 25,
   "metadata": {},
   "outputs": [],
   "source": [
    "import numpy as np\n",
    "from CADMium import Psgrid\n",
    "from CADMium import Kohnsham\n",
    "import matplotlib.pyplot as plt"
   ]
  },
  {
   "cell_type": "code",
   "execution_count": 35,
   "metadata": {},
   "outputs": [
    {
     "name": "stderr",
     "output_type": "stream",
     "text": [
      "/mnt/c/Users/victo/Dropbox/PHD/cadmium/CADMium/CADMium/kohnsham/scf.py:99: RuntimeWarning: invalid value encountered in true_divide\n",
      "  dif_n = np.max(  self.grid.integrate(np.abs(self.n - old_n)) / self.grid.integrate(np.abs(self.n))  )\n"
     ]
    },
    {
     "name": "stdout",
     "output_type": "stream",
     "text": [
      " Distance: 1.0 -> Energy: -0.4145683783488223\n",
      " Distance: 1.1379310344827587 -> Energy: -0.47568922209238373\n",
      " Distance: 1.2758620689655173 -> Energy: -0.5161588699357786\n",
      " Distance: 1.4137931034482758 -> Energy: -0.5430750738553992\n",
      " Distance: 1.5517241379310345 -> Energy: -0.5608352742997781\n",
      " Distance: 1.6896551724137931 -> Energy: -0.572286799708926\n",
      " Distance: 1.8275862068965516 -> Energy: -0.5793186586685862\n",
      " Distance: 1.9655172413793103 -> Energy: -0.5832483470435494\n",
      " Distance: 2.103448275862069 -> Energy: -0.5849681825610669\n",
      " Distance: 2.2413793103448274 -> Energy: -0.5851247032649087\n",
      " Distance: 2.3793103448275863 -> Energy: -0.584190041325282\n",
      " Distance: 2.5172413793103448 -> Energy: -0.582499765526698\n",
      " Distance: 2.655172413793103 -> Energy: -0.5803082359628977\n",
      " Distance: 2.793103448275862 -> Energy: -0.5778025962083684\n",
      " Distance: 2.9310344827586206 -> Energy: -0.5751256071726312\n",
      " Distance: 3.0689655172413794 -> Energy: -0.5723756794966852\n",
      " Distance: 3.206896551724138 -> Energy: -0.56963327320139\n",
      " Distance: 3.3448275862068964 -> Energy: -0.5669558355896511\n",
      " Distance: 3.4827586206896552 -> Energy: -0.564385253940888\n",
      " Distance: 3.6206896551724137 -> Energy: -0.561951355511639\n",
      " Distance: 3.7586206896551726 -> Energy: -0.5596745547274161\n",
      " Distance: 3.896551724137931 -> Energy: -0.5575678812131128\n",
      " Distance: 4.0344827586206895 -> Energy: -0.5556385544351473\n",
      " Distance: 4.172413793103448 -> Energy: -0.5538922456588337\n",
      " Distance: 4.310344827586206 -> Energy: -0.5523220681349172\n",
      " Distance: 4.448275862068965 -> Energy: -0.5509272101741882\n",
      " Distance: 4.586206896551724 -> Energy: -0.54970180598681\n",
      " Distance: 4.724137931034482 -> Energy: -0.548638383586604\n",
      " Distance: 4.862068965517241 -> Energy: -0.5477283065816296\n",
      " Distance: 5.0 -> Energy: -0.5469621411394103\n",
      " Distance: 5.1 -> Energy: -0.5464910343707778\n",
      " Distance: 5.644444444444444 -> Energy: -0.5449932136635087\n",
      " Distance: 6.188888888888888 -> Energy: -0.5448648572321146\n",
      " Distance: 6.733333333333333 -> Energy: -0.5455947634006488\n",
      " Distance: 7.277777777777778 -> Energy: -0.5468031699309361\n",
      " Distance: 7.822222222222222 -> Energy: -0.5482334038344566\n",
      " Distance: 8.366666666666667 -> Energy: -0.5497240028198508\n",
      " Distance: 8.911111111111111 -> Energy: -0.551178506522132\n",
      " Distance: 9.455555555555556 -> Energy: -0.5525400886938037\n",
      " Distance: 10.0 -> Energy: -0.5537721681557687\n"
     ]
    }
   ],
   "source": [
    "dis_eq      = np.linspace(1.0,5,30)\n",
    "dis_st      = np.linspace(5.1,10,10)\n",
    "distances   = np.concatenate((dis_eq, dis_st))\n",
    "lda_energy  = []\n",
    "\n",
    "Za, Zb = 1,1\n",
    "Nmo = [[1,0]]\n",
    "N   = [[1,0]]\n",
    "pol = 2\n",
    "NP, NM = 7, [4,4] \n",
    "optKS = {\"xc_family\"  : \"lda\",\n",
    "         \"xfunc_id\"   : 1,   \n",
    "         \"cfunc_id\"   : 12,\n",
    "         \"sym\"        : True,\n",
    "         \"fractional\" : False}\n",
    "\n",
    "\n",
    "for d in distances:\n",
    "    #Initialize Grid and Separation\n",
    "    a =  d/2\n",
    "    L = np.arccosh(10./a) \n",
    "    loc = np.array(range(-4,5))\n",
    "    grid = Psgrid(NP, NM, a, L, loc)\n",
    "    grid.initialize()\n",
    "\n",
    "    #Kohn Sham Object. SCF Calcualtion\n",
    "    KS = Kohnsham(grid, Za, Zb, pol, Nmo, N, optKS)\n",
    "    KS.scf({\"disp\" : False})\n",
    "    lda_energy.append(KS.E.E)\n",
    "    print(f\" Distance: {d} -> Energy: {KS.E.E}\")\n",
    "    \n",
    "energy    = np.array(lda_energy)\n",
    "np.save('h2plus_distance.npy', distances)\n",
    "np.save('h2plus_lda.npy', lda_energy)"
   ]
  },
  {
   "cell_type": "code",
   "execution_count": 37,
   "metadata": {},
   "outputs": [
    {
     "data": {
      "text/plain": [
       "[<matplotlib.lines.Line2D at 0x7f74fa437e20>]"
      ]
     },
     "execution_count": 37,
     "metadata": {},
     "output_type": "execute_result"
    },
    {
     "data": {
      "image/png": "[encoded data removed]",
      "text/plain": [
       "<Figure size 450x300 with 1 Axes>"
      ]
     },
     "metadata": {
      "needs_background": "light"
     },
     "output_type": "display_data"
    }
   ],
   "source": [
    "h_energy  = -0.25 \n",
    "energy    = np.array(lda_energy)\n",
    "\n",
    "fig, ax = plt.subplots(1,1, dpi=75)\n",
    "\n",
    "ax.axhline(y=0, alpha=0.5, c=\"grey\", ls=\":\")\n",
    "ax.plot(distances, energy - 2*h_energy)\n",
    "# ax.set_ylim(-1.2,-0.1)"
   ]
  },
  {
   "cell_type": "code",
   "execution_count": null,
   "metadata": {},
   "outputs": [],
   "source": []
  }
 ],
 "metadata": {
  "kernelspec": {
   "display_name": "Python 3",
   "language": "python",
   "name": "python3"
  },
  "language_info": {
   "codemirror_mode": {
    "name": "ipython",
    "version": 3
   },
   "file_extension": ".py",
   "mimetype": "text/x-python",
   "name": "python",
   "nbconvert_exporter": "python",
   "pygments_lexer": "ipython3",
   "version": "3.8.5"
  }
 },
 "nbformat": 4,
 "nbformat_minor": 4
}
