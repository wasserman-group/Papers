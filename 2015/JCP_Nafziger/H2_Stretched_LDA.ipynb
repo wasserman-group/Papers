{
 "cells": [
  {
   "cell_type": "code",
   "execution_count": 1,
   "metadata": {},
   "outputs": [],
   "source": [
    "import numpy as np\n",
    "from CADMium import Psgrid\n",
    "from CADMium import Kohnsham\n",
    "import matplotlib.pyplot as plt"
   ]
  },
  {
   "cell_type": "code",
   "execution_count": 8,
   "metadata": {},
   "outputs": [
    {
     "name": "stdout",
     "output_type": "stream",
     "text": [
      " Distance: 0.5 -> Energy: -0.4684324535052049\n",
      " Distance: 0.6551724137931034 -> Energy: -0.8083407156250979\n",
      " Distance: 0.8103448275862069 -> Energy: -0.97842718732902\n",
      " Distance: 0.9655172413793104 -> Energy: -1.0667404443615993\n",
      " Distance: 1.1206896551724137 -> Energy: -1.1115704089542473\n",
      " Distance: 1.2758620689655173 -> Energy: -1.1318202580552466\n",
      " Distance: 1.4310344827586208 -> Energy: -1.1376537973331131\n",
      " Distance: 1.5862068965517242 -> Energy: -1.1348780722421599\n",
      " Distance: 1.7413793103448276 -> Energy: -1.1269625395137237\n",
      " Distance: 1.896551724137931 -> Energy: -1.1160498352041444\n",
      " Distance: 2.0517241379310347 -> Energy: -1.1034954497077645\n",
      " Distance: 2.206896551724138 -> Energy: -1.090171017251243\n",
      " Distance: 2.3620689655172415 -> Energy: -1.0766420207752279\n",
      " Distance: 2.5172413793103448 -> Energy: -1.0632755819428226\n",
      " Distance: 2.6724137931034484 -> Energy: -1.0503077720307186\n",
      " Distance: 2.8275862068965516 -> Energy: -1.0378867213699405\n",
      " Distance: 2.9827586206896552 -> Energy: -1.0261008151622297\n",
      " Distance: 3.137931034482759 -> Energy: -1.0149974994056163\n",
      " Distance: 3.293103448275862 -> Energy: -1.0045960328984411\n",
      " Distance: 3.4482758620689657 -> Energy: -0.9948962656705309\n",
      " Distance: 3.603448275862069 -> Energy: -0.9858852452776176\n",
      " Distance: 3.7586206896551726 -> Energy: -0.9775397773469396\n",
      " Distance: 3.913793103448276 -> Energy: -0.9698318987930303\n",
      " Distance: 4.068965517241379 -> Energy: -0.9627296740026599\n",
      " Distance: 4.224137931034483 -> Energy: -0.9561991097679967\n",
      " Distance: 4.379310344827586 -> Energy: -0.950205315730581\n",
      " Distance: 4.5344827586206895 -> Energy: -0.9447133436002727\n",
      " Distance: 4.689655172413794 -> Energy: -0.9396887898775765\n",
      " Distance: 4.844827586206897 -> Energy: -0.9350982226710518\n",
      " Distance: 5.0 -> Energy: -0.9309094765957149\n",
      " Distance: 5.1 -> Energy: -0.9284085724229765\n",
      " Distance: 5.644444444444444 -> Energy: -0.917165411761904\n",
      " Distance: 6.188888888888888 -> Energy: -0.9091554695880649\n",
      " Distance: 6.733333333333333 -> Energy: -0.9034940552888145\n",
      " Distance: 7.277777777777778 -> Energy: -0.8995056933150725\n",
      " Distance: 7.822222222222222 -> Energy: -0.8966827070085016\n",
      " Distance: 8.366666666666667 -> Energy: -0.8946401351598964\n",
      " Distance: 8.911111111111111 -> Energy: -0.8930881023753587\n",
      " Distance: 9.455555555555556 -> Energy: -0.8917960645167057\n",
      " Distance: 10.0 -> Energy: -0.890566987826421\n"
     ]
    }
   ],
   "source": [
    "dis_eq      = np.linspace(0.5,5,30)\n",
    "dis_st      = np.linspace(5.1,10,10)\n",
    "distances   = np.concatenate((dis_eq, dis_st))\n",
    "lda_energy  = []\n",
    "\n",
    "Za, Zb = 1,1\n",
    "Nmo = [[1,1]]\n",
    "N   = [[1,1]]\n",
    "pol = 2\n",
    "NP, NM = 7, [4,4] \n",
    "optKS = {\"xc_family\"  : \"lda\",\n",
    "         \"xfunc_id\"   : 1,   \n",
    "         \"cfunc_id\"   : 12,\n",
    "         \"sym\"        : True,\n",
    "         \"fractional\" : False}\n",
    "\n",
    "\n",
    "for d in distances:\n",
    "    #Initialize Grid and Separation\n",
    "    a =  d/2\n",
    "    L = np.arccosh(10./a) \n",
    "    loc = np.array(range(-4,5))\n",
    "    grid = Psgrid(NP, NM, a, L, loc)\n",
    "    grid.initialize()\n",
    "\n",
    "    #Kohn Sham Object. SCF Calcualtion\n",
    "    KS = Kohnsham(grid, Za, Zb, pol, Nmo, N, optKS)\n",
    "    KS.scf({\"disp\" : False})\n",
    "    lda_energy.append(KS.E.E)\n",
    "    print(f\" Distance: {d} -> Energy: {KS.E.E}\")\n",
    "    \n",
    "# Store results\n",
    "energy    = np.array(lda_energy)\n",
    "np.save('h2_distance.npy', distances)\n",
    "np.save('h2_lda.npy', lda_energy)"
   ]
  },
  {
   "cell_type": "code",
   "execution_count": 9,
   "metadata": {},
   "outputs": [
    {
     "data": {
      "text/plain": [
       "[<matplotlib.lines.Line2D at 0x7f0c3a380a30>]"
      ]
     },
     "execution_count": 9,
     "metadata": {},
     "output_type": "execute_result"
    },
    {
     "data": {
      "image/png": "[encoded data removed]",
      "text/plain": [
       "<Figure size 450x300 with 1 Axes>"
      ]
     },
     "metadata": {
      "needs_background": "light"
     },
     "output_type": "display_data"
    }
   ],
   "source": [
    "h_energy  = -0.5\n",
    "energy    = np.array(lda_energy)\n",
    "\n",
    "fig, ax = plt.subplots(1,1, dpi=75)\n",
    "\n",
    "ax.axhline(y=0, alpha=0.5, c=\"grey\", ls=\":\")\n",
    "ax.plot(distances, energy - 2*h_energy)\n",
    "# ax.set_ylim(-1.2,-0.1)"
   ]
  },
  {
   "cell_type": "code",
   "execution_count": null,
   "metadata": {},
   "outputs": [],
   "source": []
  }
 ],
 "metadata": {
  "kernelspec": {
   "display_name": "Python 3",
   "language": "python",
   "name": "python3"
  },
  "language_info": {
   "codemirror_mode": {
    "name": "ipython",
    "version": 3
   },
   "file_extension": ".py",
   "mimetype": "text/x-python",
   "name": "python",
   "nbconvert_exporter": "python",
   "pygments_lexer": "ipython3",
   "version": "3.8.5"
  }
 },
 "nbformat": 4,
 "nbformat_minor": 4
}
