{
 "cells": [
  {
   "cell_type": "code",
   "execution_count": 1,
   "metadata": {},
   "outputs": [],
   "source": [
    "import numpy as np\n",
    "import matplotlib.pyplot as plt\n",
    "from CADMium import Pssolver, Psgrid, Partition, Inverter\n",
    "import CADMium"
   ]
  },
  {
   "cell_type": "code",
   "execution_count": 15,
   "metadata": {},
   "outputs": [
    {
     "name": "stdout",
     "output_type": "stream",
     "text": [
      "Done with 1.0\n",
      "Done with 1.1379310344827587\n",
      "Done with 1.2758620689655173\n",
      "Done with 1.4137931034482758\n",
      "Done with 1.5517241379310345\n",
      "Done with 1.6896551724137931\n",
      "Done with 1.8275862068965516\n",
      "Done with 1.9655172413793103\n",
      "Done with 2.103448275862069\n",
      "Done with 2.2413793103448274\n",
      "Done with 2.3793103448275863\n",
      "Done with 2.5172413793103448\n",
      "Done with 2.655172413793103\n",
      "Done with 2.793103448275862\n",
      "Done with 2.9310344827586206\n",
      "Done with 3.0689655172413794\n",
      "Done with 3.206896551724138\n",
      "Done with 3.3448275862068964\n",
      "Done with 3.4827586206896552\n",
      "Done with 3.6206896551724137\n",
      "Done with 3.7586206896551726\n",
      "Done with 3.896551724137931\n",
      "Done with 4.0344827586206895\n",
      "Done with 4.172413793103448\n",
      "Done with 4.310344827586206\n",
      "Done with 4.448275862068965\n",
      "Done with 4.586206896551724\n",
      "Done with 4.724137931034482\n",
      "Done with 4.862068965517241\n",
      "Done with 5.0\n",
      "Done with 5.1\n",
      "Done with 5.644444444444444\n",
      "Done with 6.188888888888888\n",
      "Done with 6.733333333333333\n",
      "Done with 7.277777777777778\n",
      "Done with 7.822222222222222\n",
      "Done with 8.366666666666667\n",
      "Done with 8.911111111111111\n",
      "Done with 9.455555555555556\n",
      "Done with 10.0\n"
     ]
    }
   ],
   "source": [
    "dis_eq      = np.linspace(1.0,5,30)\n",
    "dis_st      = np.linspace(5.1,10,10)\n",
    "distances   = np.concatenate((dis_eq, dis_st))\n",
    "energy  = []\n",
    "\n",
    "for d in distances:\n",
    "    a = d/2\n",
    "    Za, Zb = 1,1\n",
    "    pol = 2\n",
    "\n",
    "    #Set up grid\n",
    "    NP = 7\n",
    "    NM = [6,6]\n",
    "    L = np.arccosh(10/a)\n",
    "    loc = np.array(range(-4,5)) #Stencil outline\n",
    "    grid = Psgrid(NP, NM, a, L, loc)\n",
    "    grid.initialize()\n",
    "\n",
    "\n",
    "    # ALPHA FRAGMENT\n",
    "    Nmo_a = [[1,0]]; Nmo_A = [[1,0]]\n",
    "    N_a   = [[0,0]]; N_A   = [[1,0]]\n",
    "    nu_a = 0.5\n",
    "\n",
    "    #Fragment b electrons\n",
    "    Nmo_b = [[1,0]]; Nmo_B = [[1,0]]\n",
    "    N_b   = [[0,0]]; N_B   = [[1,0]] \n",
    "    nu_b = 0.5\n",
    "\n",
    "    #Molecular elctron configuration\n",
    "    Nmo_m = [[1,0]]\n",
    "    N_m   = [[1,0]]\n",
    "\n",
    "\n",
    "    part = Partition(grid, Za, Zb, pol, [Nmo_a, Nmo_A], [N_a, N_A], nu_a, [Nmo_b, Nmo_B], [N_b, N_B], nu_b, {  \"AB_SYM\"            : True,\n",
    "                                                                                                               \"interaction_type\"  : \"dft\", \n",
    "                                                                                                               \"kinetic_part_type\" : \"libxcke\",\n",
    "                                                                                                               \"hxc_part_type\"     : \"overlap_hxc\",\n",
    "                                                                                                               \"k_family\"          : \"gga\", \n",
    "                                                                                                               \"ke_func_id\"        : 500,\n",
    "                                                                                                                })\n",
    "\n",
    "    #Setup inverter object\n",
    "    mol_solver = Pssolver(grid, Nmo_m, N_m)\n",
    "    part.inverter = Inverter(grid, mol_solver, {  \"AB_SYM\"         : True, \n",
    "                                                  \"use_iterative\"  : False,\n",
    "                                                  \"invert_type\"    : \"wuyang\",\n",
    "                                                  \"DISP\"           : False,  \n",
    "                                                })\n",
    "\n",
    "    part.optPartition.isolated = True\n",
    "    part.scf({\"disp\"  : False,\n",
    "              \"alpha\" : [0.6],\n",
    "              \"e_tol\" : 1e-6})\n",
    "\n",
    "    part.optPartition.isolated   = False\n",
    "    part.scf({\"disp\"       : False,\n",
    "              \"alpha\"      : [0.6],\n",
    "              \"max_iter\"   : 20,\n",
    "              \"e_tol\"      : 1e-6,\n",
    "              \"iterative\"  : False,\n",
    "              \"continuing\" : True})\n",
    "    \n",
    "    energy.append(part.E.E)\n",
    "    print(f\"Done with {d}\")\n",
    "    \n",
    "    \n",
    "energy    = np.array(energy)\n",
    "np.save('h2plus_distance.npy', distances)\n",
    "np.save('h2plus_overlap.npy', energy)"
   ]
  },
  {
   "cell_type": "code",
   "execution_count": 16,
   "metadata": {},
   "outputs": [
    {
     "data": {
      "text/plain": [
       "(-0.12, 0.1)"
      ]
     },
     "execution_count": 16,
     "metadata": {},
     "output_type": "execute_result"
    },
    {
     "data": {
      "image/png": "[encoded data removed]",
      "text/plain": [
       "<Figure size 450x300 with 1 Axes>"
      ]
     },
     "metadata": {
      "needs_background": "light"
     },
     "output_type": "display_data"
    }
   ],
   "source": [
    "h_energy  = -0.24\n",
    "energy    = np.array(energy)\n",
    "\n",
    "fig, ax = plt.subplots(1,1, dpi=75)\n",
    "ax.axhline(y=0, alpha=0.5, c=\"grey\", ls=\":\")\n",
    "ax.plot(distances, energy - 2 * h_energy)\n",
    "ax.set_ylim(-0.12,0.1)"
   ]
  },
  {
   "cell_type": "code",
   "execution_count": 17,
   "metadata": {},
   "outputs": [
    {
     "data": {
      "text/plain": [
       "{'Ea': -0.23839575845846386,\n",
       " 'Eb': -0.23839575845846386,\n",
       " 'Ef': -0.4767915169169277,\n",
       " 'Tsf': 0.46587750653737103,\n",
       " 'Eksf': array([[-0.37429389,  0.        ]]),\n",
       " 'Enucf': -0.9625159005913222,\n",
       " 'Exf': -0.25536984224771875,\n",
       " 'Ecf': -0.02164853638080808,\n",
       " 'Ehf': 0.2968652557655503,\n",
       " 'Vhxcf': 0.22837252451633025,\n",
       " 'Ep': -0.10349823761958396,\n",
       " 'Ep_pot': -0.10135343217170031,\n",
       " 'Ep_kin': -0.0009079350434022526,\n",
       " 'Ep_hxc': -0.0012368704044813956,\n",
       " 'Et': -0.5802897545365117,\n",
       " 'Vnn': 0.1,\n",
       " 'E': -0.4802897545365117,\n",
       " 'evals_a': array([-6.03888089e-01, -4.50359963e+15, -3.74293890e-01, -4.50359963e+15]),\n",
       " 'evals_b': array([-6.03888089e-01, -4.50359963e+15, -3.74293890e-01, -4.50359963e+15]),\n",
       " 'S': 0.008065597391541612,\n",
       " 'F': 0.018200525433957046,\n",
       " 'Ehcor': 0.0,\n",
       " 'Ep_h': -0.12274651926949481,\n",
       " 'Ep_x': 0.05263018987173346,\n",
       " 'Ep_c': 0.0021583790094860666}"
      ]
     },
     "execution_count": 17,
     "metadata": {},
     "output_type": "execute_result"
    }
   ],
   "source": [
    "vars(part.E)"
   ]
  },
  {
   "cell_type": "code",
   "execution_count": null,
   "metadata": {},
   "outputs": [],
   "source": []
  }
 ],
 "metadata": {
  "kernelspec": {
   "display_name": "Python 3",
   "language": "python",
   "name": "python3"
  },
  "language_info": {
   "codemirror_mode": {
    "name": "ipython",
    "version": 3
   },
   "file_extension": ".py",
   "mimetype": "text/x-python",
   "name": "python",
   "nbconvert_exporter": "python",
   "pygments_lexer": "ipython3",
   "version": "3.8.5"
  }
 },
 "nbformat": 4,
 "nbformat_minor": 4
}
