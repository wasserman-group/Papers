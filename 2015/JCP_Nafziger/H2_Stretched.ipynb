{
 "cells": [
  {
   "cell_type": "code",
   "execution_count": 19,
   "metadata": {},
   "outputs": [],
   "source": [
    "import numpy as np\n",
    "import matplotlib.pyplot as plt\n",
    "from CADMium import Pssolver, Psgrid, Partition, Inverter\n",
    "import CADMium"
   ]
  },
  {
   "cell_type": "code",
   "execution_count": 20,
   "metadata": {},
   "outputs": [
    {
     "name": "stdout",
     "output_type": "stream",
     "text": [
      "Done with 0.5\n",
      "Done with 0.6551724137931034\n",
      "Done with 0.8103448275862069\n",
      "Done with 0.9655172413793104\n",
      "Done with 1.1206896551724137\n",
      "Done with 1.2758620689655173\n",
      "Done with 1.4310344827586208\n",
      "Done with 1.5862068965517242\n",
      "Done with 1.7413793103448276\n",
      "Done with 1.896551724137931\n",
      "Done with 2.0517241379310347\n",
      "Done with 2.206896551724138\n",
      "Done with 2.3620689655172415\n",
      "Done with 2.5172413793103448\n",
      "Done with 2.6724137931034484\n",
      "Done with 2.8275862068965516\n",
      "Done with 2.9827586206896552\n",
      "Done with 3.137931034482759\n",
      "Done with 3.293103448275862\n",
      "Done with 3.4482758620689657\n",
      "Done with 3.603448275862069\n",
      "Done with 3.7586206896551726\n",
      "Done with 3.913793103448276\n",
      "Done with 4.068965517241379\n",
      "Done with 4.224137931034483\n",
      "Done with 4.379310344827586\n",
      "Done with 4.5344827586206895\n",
      "Done with 4.689655172413794\n",
      "Done with 4.844827586206897\n",
      "Done with 5.0\n",
      "Done with 5.1\n",
      "Done with 5.644444444444444\n",
      "Done with 6.188888888888888\n",
      "Done with 6.733333333333333\n",
      "Done with 7.277777777777778\n",
      "Done with 7.822222222222222\n",
      "Done with 8.366666666666667\n",
      "Done with 8.911111111111111\n",
      "Done with 9.455555555555556\n",
      "Done with 10.0\n"
     ]
    }
   ],
   "source": [
    "dis_eq      = np.linspace(0.5,5,30)\n",
    "dis_st      = np.linspace(5.1,10,10)\n",
    "distances   = np.concatenate((dis_eq, dis_st))\n",
    "\n",
    "# distances = [8]\n",
    "\n",
    "energy    = []\n",
    "\n",
    "Za, Zb = 1,1\n",
    "pol = 2\n",
    "NP, NM = 7, [6,6]\n",
    "loc = np.array(range(-4,5))\n",
    "\n",
    "\n",
    "for d in distances:\n",
    "    a = d/2    \n",
    "    L = np.arccosh(10/a)\n",
    "    grid = Psgrid(NP, NM, a, L, loc)\n",
    "    grid.initialize()\n",
    "\n",
    "    Nmo_a = [[1,0]]; Nmo_A = [[0,1]]  # Alpha fragment\n",
    "    N_a   = [[1,0]]; N_A   = [[0,1]]\n",
    "    nu_a = 0.5\n",
    "\n",
    "    Nmo_b = [[1,0]]; Nmo_B = [[0,1]] # Beta fragment\n",
    "    N_b   = [[1,0]]; N_B   = [[0,1]] \n",
    "    nu_b = 0.5\n",
    "\n",
    "    Nmo_m = [[1,1]] #Molecular elctron configuration\n",
    "    N_m   = [[1,1]]\n",
    "\n",
    "\n",
    "    part = Partition(grid, Za, Zb, pol, [Nmo_a, Nmo_A], [N_a, N_A], nu_a, [Nmo_b, Nmo_B], [N_b, N_B], nu_b, {  \"AB_SYM\"            : True,\n",
    "                                                                                                               \"interaction_type\"  : \"dft\", \n",
    "                                                                                                               \"kinetic_part_type\" : \"libxcke\",\n",
    "                                                                                                               \"hxc_part_type\"     : \"overlap_hxc\",\n",
    "                                                                                                               \"k_family\"          : \"gga\", \n",
    "                                                                                                               \"ke_func_id\"        : 500,\n",
    "                                                                                                                 })\n",
    "\n",
    "    #Setup inverter object\n",
    "    mol_solver = Pssolver(grid, Nmo_m, N_m)\n",
    "    part.inverter = Inverter(grid, mol_solver, {  \"AB_SYM\"         : True, \n",
    "                                                  \"use_iterative\"  : False,\n",
    "                                                  \"invert_type\"    : \"wuyang\",\n",
    "                                                  \"disp\"           : True,  \n",
    "                                                })\n",
    "\n",
    "    part.optPartition.isolated = True\n",
    "    part.scf({\"disp\"  : False,\n",
    "              \"alpha\" : [0.6],\n",
    "              \"e_tol\" : 1e-6})\n",
    "\n",
    "    part.optPartition.isolated   = False\n",
    "    part.scf({\"disp\"       : False,\n",
    "              \"alpha\"      : [0.6],\n",
    "              \"max_iter\"   : 20,\n",
    "              \"e_tol\"      : 1e-6,\n",
    "              \"iterative\"  : False,\n",
    "              \"continuing\" : True})\n",
    "    \n",
    "    energy.append(part.E.E)\n",
    "    print(f\"Done with {d}\")\n",
    "    \n",
    "energy    = np.array(energy)\n",
    "np.save('h2_distance.npy', distances)\n",
    "np.save('h2_overlap.npy', energy)"
   ]
  },
  {
   "cell_type": "code",
   "execution_count": 26,
   "metadata": {},
   "outputs": [
    {
     "data": {
      "text/plain": [
       "(-0.2, 0.1)"
      ]
     },
     "execution_count": 26,
     "metadata": {},
     "output_type": "execute_result"
    },
    {
     "data": {
      "image/png": "[encoded data removed]",
      "text/plain": [
       "<Figure size 432x288 with 1 Axes>"
      ]
     },
     "metadata": {
      "needs_background": "light"
     },
     "output_type": "display_data"
    }
   ],
   "source": [
    "h_energy = part.E.Ea\n",
    "plt.plot(distances, energy - 2.0 * h_energy)\n",
    "plt.axhline(y=0, alpha=0.5, c=\"grey\", ls=\":\")\n",
    "plt.ylim(-.2,.1)"
   ]
  },
  {
   "cell_type": "code",
   "execution_count": 24,
   "metadata": {},
   "outputs": [
    {
     "data": {
      "text/plain": [
       "-0.47790086199331666"
      ]
     },
     "execution_count": 24,
     "metadata": {},
     "output_type": "execute_result"
    }
   ],
   "source": [
    "part.E.Eapart.E.Ea"
   ]
  },
  {
   "cell_type": "code",
   "execution_count": null,
   "metadata": {},
   "outputs": [],
   "source": []
  }
 ],
 "metadata": {
  "kernelspec": {
   "display_name": "Python 3",
   "language": "python",
   "name": "python3"
  },
  "language_info": {
   "codemirror_mode": {
    "name": "ipython",
    "version": 3
   },
   "file_extension": ".py",
   "mimetype": "text/x-python",
   "name": "python",
   "nbconvert_exporter": "python",
   "pygments_lexer": "ipython3",
   "version": "3.8.5"
  }
 },
 "nbformat": 4,
 "nbformat_minor": 4
}
